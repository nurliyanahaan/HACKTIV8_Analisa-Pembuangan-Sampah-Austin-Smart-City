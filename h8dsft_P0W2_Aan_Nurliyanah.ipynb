{
 "cells": [
  {
   "cell_type": "markdown",
   "metadata": {},
   "source": [
    "# GRADED CHALLENGE 2 \n",
    "\n",
    "Name        : Aan Nurliyanah\n",
    "\n",
    "Batch       : 002"
   ]
  },
  {
   "cell_type": "markdown",
   "metadata": {},
   "source": [
    "## Description\n",
    "\n",
    "### Objective\n",
    "\n",
    "Tugas ini adalah Graded Challenge kedua , data diambil dari `bigquery-public-data`. Tabel yang digunakan dalam tugas ini adalah tabel `waste_and_diversion` pada dataset `austin_waste`. Tabel ini berisi data sistem pembuangan dan pengelolaan sampah di kota Austin. Kolom yang digunakan diantaranya: `report_date`,`load_time`, `load_type`, `load_weight`, `dropoff_site`. Data yang digunakan tahun 2021 saja (data hanya sampai tanggal 9 Juli 2021).\n",
    "\n",
    "### Problem Statement\n",
    "\n",
    "Kamu adalah anggota tim Data Science di Austin Smart City dan sedang mengerjakan projek analisa sistem pembuangan dan pengelolaan sampah di kota tersebut. Sebagai anggota tim, berdasarkan data yang tersedia, coba analisa data tersebut menggunakan statistik deskriptif dan inferensial, serta berikan insight kepada pemerintah kota Austin mengenai kondisi sistem pembuangan dan pengelolaan sampah. Gunakan guideline/langkah berikut untuk mempermudah kamu dalam menganalisa.\n",
    "\n",
    "### Problem 1 (Stats)\n",
    "\n",
    "1. Sebelum melakukan perhitungan dan analisa statistik, lakukan pembersihan data terlebih dahulu. Pastikan tidak ada missing value, dsb.\n",
    "\n",
    "2. Selanjutnya, lakukan eksplorasi data sederhana guna mengetahui dan mengenali data yang kamu punya. Kamu bisa lakukan hal-hal berikut untuk mengeksplorasi data kamu.\n",
    "  - Melihat rentang waktu pengambilan data\n",
    "  - Ada apa saja tipe load sampah di kota Austin berdasarkan data\n",
    "  - Mengetahui tempat pembuangan sampah ada dimana saja\n",
    "  - dsb.\n",
    "\n",
    "3. Berdasarkan central tendency (mean, median, dan modus) untuk masing-masing site, insight/informasi apa yang bisa kamu sampaikan kepada pemerintah kota? (**Caution:** Jangan gunakan pd.DataFrame.describe())\n",
    "\n",
    "4. Pilih site yang paling menarik perhatian kamu, dan berikan alasannya.\n",
    "\n",
    "5. Gunakan site yang kamu pilih untuk dicek apakah data `load_weight` ada outlier atau tidak. *Gunakan teknik yang tepat sesuai dengan distribusi dari datanya!*. Jika iya, berapa persen jumlah outliernya? dan bandingkan central tendency data yang telah dikeluarkan outliernya dengan yang belum (hasil dari perhitungan nomor 3).\n",
    "\n",
    "6. Gunakan site yang telah kamu pilih untuk dihitung range, variance, dan standar deviasi untuk data `load_weight`. Berikan insight dari hasil perhitunganmu kepada pemerintah kota (`Pastikan data yang digunakan adalah data yang sudah dibersihkan dari outlier`).\n",
    "\n",
    "7. Pemerintah kota berencana menambah site baru. Berikan analisa dan saran terkait berapa kapasitas penampungan di site baru berdasarkan perhitungan `confidence interval`. Data apa yang kamu gunakan, apakah hanya dari satu site saja atau dari keseluruhan site?\n",
    "\n",
    "8. Buatlah `analisa uji hipotesis` dari data tersebut dari data yang tersedia (kasusnya dibebaskan). Definisikan H0 dan H1 nya serta lakukan perhitungan menggunakan t-test yang sesuai dengan hipotesis kamu. Tulis kesimpulan dari hasil perhitunganmu kepada pemerintah kota (**Ingat!** pemerintah kota tidak mengerti p-value, hipotesis diterima/tidak diterima, jadi gunakan bahasa yang lebih manusiawi!).\n"
   ]
  },
  {
   "cell_type": "markdown",
   "metadata": {},
   "source": [
    "### Problem 2 (Math/Calculus)\n",
    "\n",
    "Pada permasalahan yang sama, pemerintah ingin tau berapa banyak load sampah dalam kg di kota Austin di hari berikutnya (10 Juli 2021). Dalam hal ini, pemerintah menginginkan kamu melakukan forecasting untuk memprediksi nilai di masa depan. Ada banyak teknik forecasting yang bisa dilakukan tapi kamu tidak perlu khawatir, kita akan menggunakan yang metode yang sangat sederhana yaitu menggunakan rumus kecepatan.\n",
    "\n",
    "Asumsikan bahwa laju penambahan sampah tiap harinya dapat ditulis menggunakan rumus berikut:\n",
    "<img src=\"https://latex2png.com/pngs/d095b902113a1ef68d07fd786e4be428.png\"></img>\n",
    "\n",
    "dimana `1` notasi hari ini dan `0` notasi hari kemarin.\n",
    "\n",
    "Jika kita ingin memprediksi jumlah load sampah hari esok maka bisa digunakan rumus:\n",
    "\n",
    "<img src=\"https://latex2png.com/pngs/50dc63299a1860b10a15346a9ca3a42e.png\"></img>\n",
    "\n",
    "Dimana `v` akan dihitung nilainya menggunakan turunan pertama dari data `load_weight` yang sebelumnya harus di-group-by berdasarkan `report_date` dan jangan lupa setelah itu `report_date` harus diurutkan dari tanggal terkecil hingga terbesar. `Δt` **bernilai 1** karena hanya ingin memprediksi nilai di satu hari kedepan.\n",
    "\n",
    "**Catatan tambahan**: Untuk menghitung turunan, harus ditentukan terlebih dahulu sumbu x dan y nya. Jadikan `load_weight` sebagai sumbu y dan untuk sumbu x, dapat gunakan index dataframe hasil groupby jika indeksnya berupa nomor urut dari 0 hingga N-1. Jika tidak, bisa buat menggunakan `range()`.\n",
    "\n",
    "Gunakan hasil turunan pertama pada baris terakhir dari data untuk digunakan sebagai `v`."
   ]
  },
  {
   "cell_type": "markdown",
   "metadata": {},
   "source": [
    "## Working Area"
   ]
  },
  {
   "cell_type": "markdown",
   "metadata": {},
   "source": [
    "SQL Query untuk Dataset yang diambil adalah :\n",
    "\n",
    "SELECT report_date,load_time, load_type, load_weight, dropoff_site\n",
    "\n",
    "FROM `bigquery-public-data.austin_waste.waste_and_diversion`\n",
    "\n",
    "WHERE report_date BETWEEN '2021-01-01' AND '2021-07-09'\n",
    "ORDER BY report_date ASC"
   ]
  },
  {
   "cell_type": "markdown",
   "metadata": {},
   "source": [
    "### Libraries Used\n",
    "\n",
    "Library yang saya gunakan dalam tugas ini adalah pandas, numpy, matplotlib, scipy, dan seaborn. \n",
    "Selain untuk perhitungan matematis , library yang digunakan juga untuk membantu memvisualisasikan secara sederhana dari analisis data. "
   ]
  },
  {
   "cell_type": "code",
   "execution_count": 1,
   "metadata": {},
   "outputs": [],
   "source": [
    "import pandas as pd\n",
    "import numpy as np\n",
    "import matplotlib.pyplot as plt\n",
    "from scipy import stats\n",
    "import seaborn as sns\n"
   ]
  },
  {
   "cell_type": "markdown",
   "metadata": {},
   "source": [
    "### Data Loading \n",
    "\n",
    "Memanggil data yang sudah di download dan di simpan di local folder dengan nama `h8dsft_P0GC2_Aan_Nurliyanah.csv` , data berasal dari Big Query Public Dataset, data diambil di bagian `bigquery-public-data`. Tabel yang digunakan dalam tugas ini adalah tabel `waste_and_diversion` pada dataset `austin_waste`.\n",
    "\n",
    "Memanggil data dengan menggunakan pd.read_csv karena data dalam bentuk csv, juga di tambahkan dengan menambahkan na_values apabila ada data kosong yang isinya '?',' ','99999','N/A' akan didefinisikan sebagai missing values.\n",
    "\n",
    "dataset saya namai dengan df_austin."
   ]
  },
  {
   "cell_type": "code",
   "execution_count": 2,
   "metadata": {},
   "outputs": [],
   "source": [
    "df_austin = pd.read_csv('h8dsft_P0GC2_Aan_Nurliyanah.csv', na_values=['?',' ','99999','N/A'])"
   ]
  },
  {
   "cell_type": "code",
   "execution_count": 3,
   "metadata": {},
   "outputs": [
    {
     "data": {
      "text/html": [
       "<div>\n",
       "<style scoped>\n",
       "    .dataframe tbody tr th:only-of-type {\n",
       "        vertical-align: middle;\n",
       "    }\n",
       "\n",
       "    .dataframe tbody tr th {\n",
       "        vertical-align: top;\n",
       "    }\n",
       "\n",
       "    .dataframe thead th {\n",
       "        text-align: right;\n",
       "    }\n",
       "</style>\n",
       "<table border=\"1\" class=\"dataframe\">\n",
       "  <thead>\n",
       "    <tr style=\"text-align: right;\">\n",
       "      <th></th>\n",
       "      <th>report_date</th>\n",
       "      <th>load_time</th>\n",
       "      <th>load_type</th>\n",
       "      <th>load_weight</th>\n",
       "      <th>dropoff_site</th>\n",
       "    </tr>\n",
       "  </thead>\n",
       "  <tbody>\n",
       "    <tr>\n",
       "      <th>0</th>\n",
       "      <td>2021-01-01</td>\n",
       "      <td>2021-01-01 12:00:00 UTC</td>\n",
       "      <td>SWEEPING</td>\n",
       "      <td>NaN</td>\n",
       "      <td>ONION CREEK</td>\n",
       "    </tr>\n",
       "    <tr>\n",
       "      <th>1</th>\n",
       "      <td>2021-01-01</td>\n",
       "      <td>2021-01-01 12:00:00 UTC</td>\n",
       "      <td>SWEEPING</td>\n",
       "      <td>NaN</td>\n",
       "      <td>ONION CREEK</td>\n",
       "    </tr>\n",
       "    <tr>\n",
       "      <th>2</th>\n",
       "      <td>2021-01-01</td>\n",
       "      <td>2021-01-01 12:00:00 UTC</td>\n",
       "      <td>SWEEPING</td>\n",
       "      <td>NaN</td>\n",
       "      <td>ONION CREEK</td>\n",
       "    </tr>\n",
       "    <tr>\n",
       "      <th>3</th>\n",
       "      <td>2021-01-01</td>\n",
       "      <td>2021-01-01 12:00:00 UTC</td>\n",
       "      <td>SWEEPING</td>\n",
       "      <td>NaN</td>\n",
       "      <td>ONION CREEK</td>\n",
       "    </tr>\n",
       "    <tr>\n",
       "      <th>4</th>\n",
       "      <td>2021-01-02</td>\n",
       "      <td>2021-01-02 09:24:00 UTC</td>\n",
       "      <td>TIRES</td>\n",
       "      <td>1640.0</td>\n",
       "      <td>MRF</td>\n",
       "    </tr>\n",
       "    <tr>\n",
       "      <th>...</th>\n",
       "      <td>...</td>\n",
       "      <td>...</td>\n",
       "      <td>...</td>\n",
       "      <td>...</td>\n",
       "      <td>...</td>\n",
       "    </tr>\n",
       "    <tr>\n",
       "      <th>26152</th>\n",
       "      <td>2021-07-09</td>\n",
       "      <td>2021-07-09 09:48:00 UTC</td>\n",
       "      <td>BRUSH</td>\n",
       "      <td>8240.0</td>\n",
       "      <td>HORNSBY BEND</td>\n",
       "    </tr>\n",
       "    <tr>\n",
       "      <th>26153</th>\n",
       "      <td>2021-07-09</td>\n",
       "      <td>2021-07-09 12:02:00 UTC</td>\n",
       "      <td>BRUSH</td>\n",
       "      <td>4160.0</td>\n",
       "      <td>HORNSBY BEND</td>\n",
       "    </tr>\n",
       "    <tr>\n",
       "      <th>26154</th>\n",
       "      <td>2021-07-09</td>\n",
       "      <td>2021-07-09 11:55:00 UTC</td>\n",
       "      <td>BRUSH</td>\n",
       "      <td>4340.0</td>\n",
       "      <td>HORNSBY BEND</td>\n",
       "    </tr>\n",
       "    <tr>\n",
       "      <th>26155</th>\n",
       "      <td>2021-07-09</td>\n",
       "      <td>2021-07-09 12:00:00 UTC</td>\n",
       "      <td>LITTER</td>\n",
       "      <td>1900.0</td>\n",
       "      <td>TDS LANDFILL</td>\n",
       "    </tr>\n",
       "    <tr>\n",
       "      <th>26156</th>\n",
       "      <td>2021-07-09</td>\n",
       "      <td>2021-07-09 12:00:00 UTC</td>\n",
       "      <td>LITTER</td>\n",
       "      <td>3040.0</td>\n",
       "      <td>TDS LANDFILL</td>\n",
       "    </tr>\n",
       "  </tbody>\n",
       "</table>\n",
       "<p>26157 rows × 5 columns</p>\n",
       "</div>"
      ],
      "text/plain": [
       "      report_date                load_time load_type  load_weight  \\\n",
       "0      2021-01-01  2021-01-01 12:00:00 UTC  SWEEPING          NaN   \n",
       "1      2021-01-01  2021-01-01 12:00:00 UTC  SWEEPING          NaN   \n",
       "2      2021-01-01  2021-01-01 12:00:00 UTC  SWEEPING          NaN   \n",
       "3      2021-01-01  2021-01-01 12:00:00 UTC  SWEEPING          NaN   \n",
       "4      2021-01-02  2021-01-02 09:24:00 UTC     TIRES       1640.0   \n",
       "...           ...                      ...       ...          ...   \n",
       "26152  2021-07-09  2021-07-09 09:48:00 UTC     BRUSH       8240.0   \n",
       "26153  2021-07-09  2021-07-09 12:02:00 UTC     BRUSH       4160.0   \n",
       "26154  2021-07-09  2021-07-09 11:55:00 UTC     BRUSH       4340.0   \n",
       "26155  2021-07-09  2021-07-09 12:00:00 UTC    LITTER       1900.0   \n",
       "26156  2021-07-09  2021-07-09 12:00:00 UTC    LITTER       3040.0   \n",
       "\n",
       "       dropoff_site  \n",
       "0       ONION CREEK  \n",
       "1       ONION CREEK  \n",
       "2       ONION CREEK  \n",
       "3       ONION CREEK  \n",
       "4               MRF  \n",
       "...             ...  \n",
       "26152  HORNSBY BEND  \n",
       "26153  HORNSBY BEND  \n",
       "26154  HORNSBY BEND  \n",
       "26155  TDS LANDFILL  \n",
       "26156  TDS LANDFILL  \n",
       "\n",
       "[26157 rows x 5 columns]"
      ]
     },
     "execution_count": 3,
     "metadata": {},
     "output_type": "execute_result"
    }
   ],
   "source": [
    "df_austin"
   ]
  },
  {
   "cell_type": "markdown",
   "metadata": {},
   "source": [
    "Setelah dataset di panggil,kemudian di cek data teratas dan data terbawahnya seperti berikut untuk melihat gambaran dari tabel menggunakan head dan tail."
   ]
  },
  {
   "cell_type": "code",
   "execution_count": 4,
   "metadata": {},
   "outputs": [
    {
     "data": {
      "text/html": [
       "<div>\n",
       "<style scoped>\n",
       "    .dataframe tbody tr th:only-of-type {\n",
       "        vertical-align: middle;\n",
       "    }\n",
       "\n",
       "    .dataframe tbody tr th {\n",
       "        vertical-align: top;\n",
       "    }\n",
       "\n",
       "    .dataframe thead th {\n",
       "        text-align: right;\n",
       "    }\n",
       "</style>\n",
       "<table border=\"1\" class=\"dataframe\">\n",
       "  <thead>\n",
       "    <tr style=\"text-align: right;\">\n",
       "      <th></th>\n",
       "      <th>report_date</th>\n",
       "      <th>load_time</th>\n",
       "      <th>load_type</th>\n",
       "      <th>load_weight</th>\n",
       "      <th>dropoff_site</th>\n",
       "    </tr>\n",
       "  </thead>\n",
       "  <tbody>\n",
       "    <tr>\n",
       "      <th>0</th>\n",
       "      <td>2021-01-01</td>\n",
       "      <td>2021-01-01 12:00:00 UTC</td>\n",
       "      <td>SWEEPING</td>\n",
       "      <td>NaN</td>\n",
       "      <td>ONION CREEK</td>\n",
       "    </tr>\n",
       "    <tr>\n",
       "      <th>1</th>\n",
       "      <td>2021-01-01</td>\n",
       "      <td>2021-01-01 12:00:00 UTC</td>\n",
       "      <td>SWEEPING</td>\n",
       "      <td>NaN</td>\n",
       "      <td>ONION CREEK</td>\n",
       "    </tr>\n",
       "    <tr>\n",
       "      <th>2</th>\n",
       "      <td>2021-01-01</td>\n",
       "      <td>2021-01-01 12:00:00 UTC</td>\n",
       "      <td>SWEEPING</td>\n",
       "      <td>NaN</td>\n",
       "      <td>ONION CREEK</td>\n",
       "    </tr>\n",
       "    <tr>\n",
       "      <th>3</th>\n",
       "      <td>2021-01-01</td>\n",
       "      <td>2021-01-01 12:00:00 UTC</td>\n",
       "      <td>SWEEPING</td>\n",
       "      <td>NaN</td>\n",
       "      <td>ONION CREEK</td>\n",
       "    </tr>\n",
       "    <tr>\n",
       "      <th>4</th>\n",
       "      <td>2021-01-02</td>\n",
       "      <td>2021-01-02 09:24:00 UTC</td>\n",
       "      <td>TIRES</td>\n",
       "      <td>1640.0</td>\n",
       "      <td>MRF</td>\n",
       "    </tr>\n",
       "    <tr>\n",
       "      <th>5</th>\n",
       "      <td>2021-01-02</td>\n",
       "      <td>2021-01-02 11:47:00 UTC</td>\n",
       "      <td>TIRES</td>\n",
       "      <td>940.0</td>\n",
       "      <td>MRF</td>\n",
       "    </tr>\n",
       "    <tr>\n",
       "      <th>6</th>\n",
       "      <td>2021-01-02</td>\n",
       "      <td>2021-01-02 12:00:00 UTC</td>\n",
       "      <td>RECYCLING - SINGLE STREAM</td>\n",
       "      <td>320.0</td>\n",
       "      <td>TDS - MRF</td>\n",
       "    </tr>\n",
       "    <tr>\n",
       "      <th>7</th>\n",
       "      <td>2021-01-02</td>\n",
       "      <td>2021-01-02 09:02:00 UTC</td>\n",
       "      <td>RECYCLING - SINGLE STREAM</td>\n",
       "      <td>520.0</td>\n",
       "      <td>TDS - MRF</td>\n",
       "    </tr>\n",
       "    <tr>\n",
       "      <th>8</th>\n",
       "      <td>2021-01-02</td>\n",
       "      <td>2021-01-02 12:00:00 UTC</td>\n",
       "      <td>SWEEPING</td>\n",
       "      <td>NaN</td>\n",
       "      <td>ONION CREEK</td>\n",
       "    </tr>\n",
       "    <tr>\n",
       "      <th>9</th>\n",
       "      <td>2021-01-02</td>\n",
       "      <td>2021-01-02 12:00:00 UTC</td>\n",
       "      <td>SWEEPING</td>\n",
       "      <td>NaN</td>\n",
       "      <td>ONION CREEK</td>\n",
       "    </tr>\n",
       "  </tbody>\n",
       "</table>\n",
       "</div>"
      ],
      "text/plain": [
       "  report_date                load_time                  load_type  \\\n",
       "0  2021-01-01  2021-01-01 12:00:00 UTC                   SWEEPING   \n",
       "1  2021-01-01  2021-01-01 12:00:00 UTC                   SWEEPING   \n",
       "2  2021-01-01  2021-01-01 12:00:00 UTC                   SWEEPING   \n",
       "3  2021-01-01  2021-01-01 12:00:00 UTC                   SWEEPING   \n",
       "4  2021-01-02  2021-01-02 09:24:00 UTC                      TIRES   \n",
       "5  2021-01-02  2021-01-02 11:47:00 UTC                      TIRES   \n",
       "6  2021-01-02  2021-01-02 12:00:00 UTC  RECYCLING - SINGLE STREAM   \n",
       "7  2021-01-02  2021-01-02 09:02:00 UTC  RECYCLING - SINGLE STREAM   \n",
       "8  2021-01-02  2021-01-02 12:00:00 UTC                   SWEEPING   \n",
       "9  2021-01-02  2021-01-02 12:00:00 UTC                   SWEEPING   \n",
       "\n",
       "   load_weight dropoff_site  \n",
       "0          NaN  ONION CREEK  \n",
       "1          NaN  ONION CREEK  \n",
       "2          NaN  ONION CREEK  \n",
       "3          NaN  ONION CREEK  \n",
       "4       1640.0          MRF  \n",
       "5        940.0          MRF  \n",
       "6        320.0    TDS - MRF  \n",
       "7        520.0    TDS - MRF  \n",
       "8          NaN  ONION CREEK  \n",
       "9          NaN  ONION CREEK  "
      ]
     },
     "execution_count": 4,
     "metadata": {},
     "output_type": "execute_result"
    }
   ],
   "source": [
    "df_austin.head(10)"
   ]
  },
  {
   "cell_type": "code",
   "execution_count": 5,
   "metadata": {},
   "outputs": [
    {
     "data": {
      "text/html": [
       "<div>\n",
       "<style scoped>\n",
       "    .dataframe tbody tr th:only-of-type {\n",
       "        vertical-align: middle;\n",
       "    }\n",
       "\n",
       "    .dataframe tbody tr th {\n",
       "        vertical-align: top;\n",
       "    }\n",
       "\n",
       "    .dataframe thead th {\n",
       "        text-align: right;\n",
       "    }\n",
       "</style>\n",
       "<table border=\"1\" class=\"dataframe\">\n",
       "  <thead>\n",
       "    <tr style=\"text-align: right;\">\n",
       "      <th></th>\n",
       "      <th>report_date</th>\n",
       "      <th>load_time</th>\n",
       "      <th>load_type</th>\n",
       "      <th>load_weight</th>\n",
       "      <th>dropoff_site</th>\n",
       "    </tr>\n",
       "  </thead>\n",
       "  <tbody>\n",
       "    <tr>\n",
       "      <th>26147</th>\n",
       "      <td>2021-07-09</td>\n",
       "      <td>2021-07-09 12:39:00 UTC</td>\n",
       "      <td>BRUSH</td>\n",
       "      <td>7140.0</td>\n",
       "      <td>HORNSBY BEND</td>\n",
       "    </tr>\n",
       "    <tr>\n",
       "      <th>26148</th>\n",
       "      <td>2021-07-09</td>\n",
       "      <td>2021-07-09 05:20:00 UTC</td>\n",
       "      <td>BRUSH</td>\n",
       "      <td>5500.0</td>\n",
       "      <td>HORNSBY BEND</td>\n",
       "    </tr>\n",
       "    <tr>\n",
       "      <th>26149</th>\n",
       "      <td>2021-07-09</td>\n",
       "      <td>2021-07-09 03:00:00 UTC</td>\n",
       "      <td>BRUSH</td>\n",
       "      <td>5500.0</td>\n",
       "      <td>HORNSBY BEND</td>\n",
       "    </tr>\n",
       "    <tr>\n",
       "      <th>26150</th>\n",
       "      <td>2021-07-09</td>\n",
       "      <td>2021-07-09 06:20:00 UTC</td>\n",
       "      <td>BRUSH</td>\n",
       "      <td>5500.0</td>\n",
       "      <td>HORNSBY BEND</td>\n",
       "    </tr>\n",
       "    <tr>\n",
       "      <th>26151</th>\n",
       "      <td>2021-07-09</td>\n",
       "      <td>2021-07-09 03:40:00 UTC</td>\n",
       "      <td>BRUSH</td>\n",
       "      <td>5500.0</td>\n",
       "      <td>HORNSBY BEND</td>\n",
       "    </tr>\n",
       "    <tr>\n",
       "      <th>26152</th>\n",
       "      <td>2021-07-09</td>\n",
       "      <td>2021-07-09 09:48:00 UTC</td>\n",
       "      <td>BRUSH</td>\n",
       "      <td>8240.0</td>\n",
       "      <td>HORNSBY BEND</td>\n",
       "    </tr>\n",
       "    <tr>\n",
       "      <th>26153</th>\n",
       "      <td>2021-07-09</td>\n",
       "      <td>2021-07-09 12:02:00 UTC</td>\n",
       "      <td>BRUSH</td>\n",
       "      <td>4160.0</td>\n",
       "      <td>HORNSBY BEND</td>\n",
       "    </tr>\n",
       "    <tr>\n",
       "      <th>26154</th>\n",
       "      <td>2021-07-09</td>\n",
       "      <td>2021-07-09 11:55:00 UTC</td>\n",
       "      <td>BRUSH</td>\n",
       "      <td>4340.0</td>\n",
       "      <td>HORNSBY BEND</td>\n",
       "    </tr>\n",
       "    <tr>\n",
       "      <th>26155</th>\n",
       "      <td>2021-07-09</td>\n",
       "      <td>2021-07-09 12:00:00 UTC</td>\n",
       "      <td>LITTER</td>\n",
       "      <td>1900.0</td>\n",
       "      <td>TDS LANDFILL</td>\n",
       "    </tr>\n",
       "    <tr>\n",
       "      <th>26156</th>\n",
       "      <td>2021-07-09</td>\n",
       "      <td>2021-07-09 12:00:00 UTC</td>\n",
       "      <td>LITTER</td>\n",
       "      <td>3040.0</td>\n",
       "      <td>TDS LANDFILL</td>\n",
       "    </tr>\n",
       "  </tbody>\n",
       "</table>\n",
       "</div>"
      ],
      "text/plain": [
       "      report_date                load_time load_type  load_weight  \\\n",
       "26147  2021-07-09  2021-07-09 12:39:00 UTC     BRUSH       7140.0   \n",
       "26148  2021-07-09  2021-07-09 05:20:00 UTC     BRUSH       5500.0   \n",
       "26149  2021-07-09  2021-07-09 03:00:00 UTC     BRUSH       5500.0   \n",
       "26150  2021-07-09  2021-07-09 06:20:00 UTC     BRUSH       5500.0   \n",
       "26151  2021-07-09  2021-07-09 03:40:00 UTC     BRUSH       5500.0   \n",
       "26152  2021-07-09  2021-07-09 09:48:00 UTC     BRUSH       8240.0   \n",
       "26153  2021-07-09  2021-07-09 12:02:00 UTC     BRUSH       4160.0   \n",
       "26154  2021-07-09  2021-07-09 11:55:00 UTC     BRUSH       4340.0   \n",
       "26155  2021-07-09  2021-07-09 12:00:00 UTC    LITTER       1900.0   \n",
       "26156  2021-07-09  2021-07-09 12:00:00 UTC    LITTER       3040.0   \n",
       "\n",
       "       dropoff_site  \n",
       "26147  HORNSBY BEND  \n",
       "26148  HORNSBY BEND  \n",
       "26149  HORNSBY BEND  \n",
       "26150  HORNSBY BEND  \n",
       "26151  HORNSBY BEND  \n",
       "26152  HORNSBY BEND  \n",
       "26153  HORNSBY BEND  \n",
       "26154  HORNSBY BEND  \n",
       "26155  TDS LANDFILL  \n",
       "26156  TDS LANDFILL  "
      ]
     },
     "execution_count": 5,
     "metadata": {},
     "output_type": "execute_result"
    }
   ],
   "source": [
    "df_austin.tail(10)"
   ]
  },
  {
   "cell_type": "markdown",
   "metadata": {},
   "source": [
    "### Data Cleaning\n",
    "\n",
    "Data cleaning dilakukan untuk mengecek dan mengetahui apakah ada missing value (nilai yang hilang) di dalam tabel yang dapat menghambat proses analisis data. Metode isnull beserta sum digunakna untuk mengetahui jumlah data yang kosong di setiap baris dan kolom."
   ]
  },
  {
   "cell_type": "code",
   "execution_count": 6,
   "metadata": {},
   "outputs": [
    {
     "data": {
      "text/plain": [
       "report_date        0\n",
       "load_time          0\n",
       "load_type          0\n",
       "load_weight     1048\n",
       "dropoff_site       0\n",
       "dtype: int64"
      ]
     },
     "execution_count": 6,
     "metadata": {},
     "output_type": "execute_result"
    }
   ],
   "source": [
    "df_austin.isnull().sum()"
   ]
  },
  {
   "cell_type": "code",
   "execution_count": 7,
   "metadata": {},
   "outputs": [
    {
     "data": {
      "text/html": [
       "<div>\n",
       "<style scoped>\n",
       "    .dataframe tbody tr th:only-of-type {\n",
       "        vertical-align: middle;\n",
       "    }\n",
       "\n",
       "    .dataframe tbody tr th {\n",
       "        vertical-align: top;\n",
       "    }\n",
       "\n",
       "    .dataframe thead th {\n",
       "        text-align: right;\n",
       "    }\n",
       "</style>\n",
       "<table border=\"1\" class=\"dataframe\">\n",
       "  <thead>\n",
       "    <tr style=\"text-align: right;\">\n",
       "      <th></th>\n",
       "      <th>report_date</th>\n",
       "      <th>load_time</th>\n",
       "      <th>load_type</th>\n",
       "      <th>load_weight</th>\n",
       "      <th>dropoff_site</th>\n",
       "    </tr>\n",
       "  </thead>\n",
       "  <tbody>\n",
       "    <tr>\n",
       "      <th>0</th>\n",
       "      <td>2021-01-01</td>\n",
       "      <td>2021-01-01 12:00:00 UTC</td>\n",
       "      <td>SWEEPING</td>\n",
       "      <td>NaN</td>\n",
       "      <td>ONION CREEK</td>\n",
       "    </tr>\n",
       "    <tr>\n",
       "      <th>1</th>\n",
       "      <td>2021-01-01</td>\n",
       "      <td>2021-01-01 12:00:00 UTC</td>\n",
       "      <td>SWEEPING</td>\n",
       "      <td>NaN</td>\n",
       "      <td>ONION CREEK</td>\n",
       "    </tr>\n",
       "    <tr>\n",
       "      <th>2</th>\n",
       "      <td>2021-01-01</td>\n",
       "      <td>2021-01-01 12:00:00 UTC</td>\n",
       "      <td>SWEEPING</td>\n",
       "      <td>NaN</td>\n",
       "      <td>ONION CREEK</td>\n",
       "    </tr>\n",
       "    <tr>\n",
       "      <th>3</th>\n",
       "      <td>2021-01-01</td>\n",
       "      <td>2021-01-01 12:00:00 UTC</td>\n",
       "      <td>SWEEPING</td>\n",
       "      <td>NaN</td>\n",
       "      <td>ONION CREEK</td>\n",
       "    </tr>\n",
       "    <tr>\n",
       "      <th>8</th>\n",
       "      <td>2021-01-02</td>\n",
       "      <td>2021-01-02 12:00:00 UTC</td>\n",
       "      <td>SWEEPING</td>\n",
       "      <td>NaN</td>\n",
       "      <td>ONION CREEK</td>\n",
       "    </tr>\n",
       "    <tr>\n",
       "      <th>...</th>\n",
       "      <td>...</td>\n",
       "      <td>...</td>\n",
       "      <td>...</td>\n",
       "      <td>...</td>\n",
       "      <td>...</td>\n",
       "    </tr>\n",
       "    <tr>\n",
       "      <th>26131</th>\n",
       "      <td>2021-07-09</td>\n",
       "      <td>2021-07-09 12:00:00 UTC</td>\n",
       "      <td>SWEEPING</td>\n",
       "      <td>NaN</td>\n",
       "      <td>ONION CREEK</td>\n",
       "    </tr>\n",
       "    <tr>\n",
       "      <th>26132</th>\n",
       "      <td>2021-07-09</td>\n",
       "      <td>2021-07-09 12:00:00 UTC</td>\n",
       "      <td>SWEEPING</td>\n",
       "      <td>NaN</td>\n",
       "      <td>ONION CREEK</td>\n",
       "    </tr>\n",
       "    <tr>\n",
       "      <th>26133</th>\n",
       "      <td>2021-07-09</td>\n",
       "      <td>2021-07-09 12:00:00 UTC</td>\n",
       "      <td>SWEEPING</td>\n",
       "      <td>NaN</td>\n",
       "      <td>ONION CREEK</td>\n",
       "    </tr>\n",
       "    <tr>\n",
       "      <th>26134</th>\n",
       "      <td>2021-07-09</td>\n",
       "      <td>2021-07-09 12:00:00 UTC</td>\n",
       "      <td>SWEEPING</td>\n",
       "      <td>NaN</td>\n",
       "      <td>ONION CREEK</td>\n",
       "    </tr>\n",
       "    <tr>\n",
       "      <th>26135</th>\n",
       "      <td>2021-07-09</td>\n",
       "      <td>2021-07-09 12:00:00 UTC</td>\n",
       "      <td>SWEEPING</td>\n",
       "      <td>NaN</td>\n",
       "      <td>ONION CREEK</td>\n",
       "    </tr>\n",
       "  </tbody>\n",
       "</table>\n",
       "<p>1048 rows × 5 columns</p>\n",
       "</div>"
      ],
      "text/plain": [
       "      report_date                load_time load_type  load_weight dropoff_site\n",
       "0      2021-01-01  2021-01-01 12:00:00 UTC  SWEEPING          NaN  ONION CREEK\n",
       "1      2021-01-01  2021-01-01 12:00:00 UTC  SWEEPING          NaN  ONION CREEK\n",
       "2      2021-01-01  2021-01-01 12:00:00 UTC  SWEEPING          NaN  ONION CREEK\n",
       "3      2021-01-01  2021-01-01 12:00:00 UTC  SWEEPING          NaN  ONION CREEK\n",
       "8      2021-01-02  2021-01-02 12:00:00 UTC  SWEEPING          NaN  ONION CREEK\n",
       "...           ...                      ...       ...          ...          ...\n",
       "26131  2021-07-09  2021-07-09 12:00:00 UTC  SWEEPING          NaN  ONION CREEK\n",
       "26132  2021-07-09  2021-07-09 12:00:00 UTC  SWEEPING          NaN  ONION CREEK\n",
       "26133  2021-07-09  2021-07-09 12:00:00 UTC  SWEEPING          NaN  ONION CREEK\n",
       "26134  2021-07-09  2021-07-09 12:00:00 UTC  SWEEPING          NaN  ONION CREEK\n",
       "26135  2021-07-09  2021-07-09 12:00:00 UTC  SWEEPING          NaN  ONION CREEK\n",
       "\n",
       "[1048 rows x 5 columns]"
      ]
     },
     "execution_count": 7,
     "metadata": {},
     "output_type": "execute_result"
    }
   ],
   "source": [
    "df_austin[df_austin.isnull().any(axis=1)]"
   ]
  },
  {
   "cell_type": "markdown",
   "metadata": {},
   "source": [
    "Dari hasil pengecekan terdapat 1048 missing value di kolom load_weight. Untuk selanjutnya akan dihilangkan data missing value tersebut dengan metode dropna."
   ]
  },
  {
   "cell_type": "code",
   "execution_count": 8,
   "metadata": {},
   "outputs": [
    {
     "name": "stdout",
     "output_type": "stream",
     "text": [
      "<class 'pandas.core.frame.DataFrame'>\n",
      "RangeIndex: 26157 entries, 0 to 26156\n",
      "Data columns (total 5 columns):\n",
      " #   Column        Non-Null Count  Dtype  \n",
      "---  ------        --------------  -----  \n",
      " 0   report_date   26157 non-null  object \n",
      " 1   load_time     26157 non-null  object \n",
      " 2   load_type     26157 non-null  object \n",
      " 3   load_weight   25109 non-null  float64\n",
      " 4   dropoff_site  26157 non-null  object \n",
      "dtypes: float64(1), object(4)\n",
      "memory usage: 1021.9+ KB\n"
     ]
    }
   ],
   "source": [
    "df_austin.info()"
   ]
  },
  {
   "cell_type": "markdown",
   "metadata": {},
   "source": [
    "Pada bagian load_weight diketahui jumlah baris yang terisi = 25109 dari seluruh baris sebanyak 26157, terdapat selisih sebanyak 1048 sesuai dengan pengecekan isnull diatas. Sementara itu saya akan menghapus kolom 'load_time' karena tidak akan digunakan dan sudah mengacu kepada kolom 'report_date' saja. Kemudian dilanjutkan untuk menghilangkan missing value di kolom load_weight tadi dengan menggunakan metode dropna. "
   ]
  },
  {
   "cell_type": "code",
   "execution_count": 9,
   "metadata": {},
   "outputs": [],
   "source": [
    "#hapus kolom load_time\n",
    "\n",
    "df_austin.drop(['load_time'],axis=1,inplace=True)"
   ]
  },
  {
   "cell_type": "code",
   "execution_count": 10,
   "metadata": {},
   "outputs": [],
   "source": [
    "df_austin.dropna(axis=0,inplace=True)"
   ]
  },
  {
   "cell_type": "code",
   "execution_count": 12,
   "metadata": {},
   "outputs": [
    {
     "data": {
      "text/plain": [
       "(25109, 4)"
      ]
     },
     "execution_count": 12,
     "metadata": {},
     "output_type": "execute_result"
    }
   ],
   "source": [
    "df_austin.shape"
   ]
  },
  {
   "cell_type": "markdown",
   "metadata": {},
   "source": [
    "dataset sudah terhapus tersisa 25109 baris, dan 4 kolom, bisa kita cek lagi dengan memanggil dataset df_austin"
   ]
  },
  {
   "cell_type": "code",
   "execution_count": 13,
   "metadata": {},
   "outputs": [
    {
     "data": {
      "text/html": [
       "<div>\n",
       "<style scoped>\n",
       "    .dataframe tbody tr th:only-of-type {\n",
       "        vertical-align: middle;\n",
       "    }\n",
       "\n",
       "    .dataframe tbody tr th {\n",
       "        vertical-align: top;\n",
       "    }\n",
       "\n",
       "    .dataframe thead th {\n",
       "        text-align: right;\n",
       "    }\n",
       "</style>\n",
       "<table border=\"1\" class=\"dataframe\">\n",
       "  <thead>\n",
       "    <tr style=\"text-align: right;\">\n",
       "      <th></th>\n",
       "      <th>report_date</th>\n",
       "      <th>load_type</th>\n",
       "      <th>load_weight</th>\n",
       "      <th>dropoff_site</th>\n",
       "    </tr>\n",
       "  </thead>\n",
       "  <tbody>\n",
       "    <tr>\n",
       "      <th>4</th>\n",
       "      <td>2021-01-02</td>\n",
       "      <td>TIRES</td>\n",
       "      <td>1640.0</td>\n",
       "      <td>MRF</td>\n",
       "    </tr>\n",
       "    <tr>\n",
       "      <th>5</th>\n",
       "      <td>2021-01-02</td>\n",
       "      <td>TIRES</td>\n",
       "      <td>940.0</td>\n",
       "      <td>MRF</td>\n",
       "    </tr>\n",
       "    <tr>\n",
       "      <th>6</th>\n",
       "      <td>2021-01-02</td>\n",
       "      <td>RECYCLING - SINGLE STREAM</td>\n",
       "      <td>320.0</td>\n",
       "      <td>TDS - MRF</td>\n",
       "    </tr>\n",
       "    <tr>\n",
       "      <th>7</th>\n",
       "      <td>2021-01-02</td>\n",
       "      <td>RECYCLING - SINGLE STREAM</td>\n",
       "      <td>520.0</td>\n",
       "      <td>TDS - MRF</td>\n",
       "    </tr>\n",
       "    <tr>\n",
       "      <th>11</th>\n",
       "      <td>2021-01-02</td>\n",
       "      <td>YARD TRIMMING</td>\n",
       "      <td>17660.0</td>\n",
       "      <td>HORNSBY BEND</td>\n",
       "    </tr>\n",
       "    <tr>\n",
       "      <th>...</th>\n",
       "      <td>...</td>\n",
       "      <td>...</td>\n",
       "      <td>...</td>\n",
       "      <td>...</td>\n",
       "    </tr>\n",
       "    <tr>\n",
       "      <th>26152</th>\n",
       "      <td>2021-07-09</td>\n",
       "      <td>BRUSH</td>\n",
       "      <td>8240.0</td>\n",
       "      <td>HORNSBY BEND</td>\n",
       "    </tr>\n",
       "    <tr>\n",
       "      <th>26153</th>\n",
       "      <td>2021-07-09</td>\n",
       "      <td>BRUSH</td>\n",
       "      <td>4160.0</td>\n",
       "      <td>HORNSBY BEND</td>\n",
       "    </tr>\n",
       "    <tr>\n",
       "      <th>26154</th>\n",
       "      <td>2021-07-09</td>\n",
       "      <td>BRUSH</td>\n",
       "      <td>4340.0</td>\n",
       "      <td>HORNSBY BEND</td>\n",
       "    </tr>\n",
       "    <tr>\n",
       "      <th>26155</th>\n",
       "      <td>2021-07-09</td>\n",
       "      <td>LITTER</td>\n",
       "      <td>1900.0</td>\n",
       "      <td>TDS LANDFILL</td>\n",
       "    </tr>\n",
       "    <tr>\n",
       "      <th>26156</th>\n",
       "      <td>2021-07-09</td>\n",
       "      <td>LITTER</td>\n",
       "      <td>3040.0</td>\n",
       "      <td>TDS LANDFILL</td>\n",
       "    </tr>\n",
       "  </tbody>\n",
       "</table>\n",
       "<p>25109 rows × 4 columns</p>\n",
       "</div>"
      ],
      "text/plain": [
       "      report_date                  load_type  load_weight  dropoff_site\n",
       "4      2021-01-02                      TIRES       1640.0           MRF\n",
       "5      2021-01-02                      TIRES        940.0           MRF\n",
       "6      2021-01-02  RECYCLING - SINGLE STREAM        320.0     TDS - MRF\n",
       "7      2021-01-02  RECYCLING - SINGLE STREAM        520.0     TDS - MRF\n",
       "11     2021-01-02              YARD TRIMMING      17660.0  HORNSBY BEND\n",
       "...           ...                        ...          ...           ...\n",
       "26152  2021-07-09                      BRUSH       8240.0  HORNSBY BEND\n",
       "26153  2021-07-09                      BRUSH       4160.0  HORNSBY BEND\n",
       "26154  2021-07-09                      BRUSH       4340.0  HORNSBY BEND\n",
       "26155  2021-07-09                     LITTER       1900.0  TDS LANDFILL\n",
       "26156  2021-07-09                     LITTER       3040.0  TDS LANDFILL\n",
       "\n",
       "[25109 rows x 4 columns]"
      ]
     },
     "execution_count": 13,
     "metadata": {},
     "output_type": "execute_result"
    }
   ],
   "source": [
    "df_austin"
   ]
  },
  {
   "cell_type": "markdown",
   "metadata": {},
   "source": [
    "Dicek kemabali bahwa data sudah tidak ada missing value. "
   ]
  },
  {
   "cell_type": "code",
   "execution_count": 15,
   "metadata": {},
   "outputs": [
    {
     "data": {
      "text/plain": [
       "report_date     0\n",
       "load_type       0\n",
       "load_weight     0\n",
       "dropoff_site    0\n",
       "dtype: int64"
      ]
     },
     "execution_count": 15,
     "metadata": {},
     "output_type": "execute_result"
    }
   ],
   "source": [
    "df_austin.isnull().sum()"
   ]
  },
  {
   "cell_type": "markdown",
   "metadata": {},
   "source": [
    "Selanjutnya mengganti tipe data pada kolom 'report_date' karena masih berbentuk object. Tipe data diubah menjadi datetime."
   ]
  },
  {
   "cell_type": "code",
   "execution_count": 16,
   "metadata": {},
   "outputs": [],
   "source": [
    "df_austin['report_date']= pd.to_datetime(df_austin['report_date'])"
   ]
  },
  {
   "cell_type": "code",
   "execution_count": 17,
   "metadata": {},
   "outputs": [
    {
     "name": "stdout",
     "output_type": "stream",
     "text": [
      "<class 'pandas.core.frame.DataFrame'>\n",
      "Int64Index: 25109 entries, 4 to 26156\n",
      "Data columns (total 4 columns):\n",
      " #   Column        Non-Null Count  Dtype         \n",
      "---  ------        --------------  -----         \n",
      " 0   report_date   25109 non-null  datetime64[ns]\n",
      " 1   load_type     25109 non-null  object        \n",
      " 2   load_weight   25109 non-null  float64       \n",
      " 3   dropoff_site  25109 non-null  object        \n",
      "dtypes: datetime64[ns](1), float64(1), object(2)\n",
      "memory usage: 980.8+ KB\n"
     ]
    }
   ],
   "source": [
    "df_austin.info()"
   ]
  },
  {
   "cell_type": "markdown",
   "metadata": {},
   "source": [
    "Tipe data untuk report_date sudah berubah. Dataset sudah siap digunakan. "
   ]
  },
  {
   "cell_type": "markdown",
   "metadata": {},
   "source": [
    "### Data Loading\n",
    "\n",
    "\n",
    "Melihat rentang waktu pengambilan data menggunakan min() dan max() pada 'report_date'"
   ]
  },
  {
   "cell_type": "code",
   "execution_count": 18,
   "metadata": {},
   "outputs": [
    {
     "name": "stdout",
     "output_type": "stream",
     "text": [
      "Pengambilan data dimulai dari tanggal : 2021-01-02 sampai dengan : 2021-07-09\n"
     ]
    }
   ],
   "source": [
    "date_min = df_austin.report_date.dt.date.min()\n",
    "date_max = df_austin.report_date.dt.date.max()\n",
    "\n",
    "print(f'Pengambilan data dimulai dari tanggal :', date_min, 'sampai dengan :', date_max) "
   ]
  },
  {
   "cell_type": "markdown",
   "metadata": {},
   "source": [
    "Melihat ada apa saja tipe load sampah di kota Austin berdasarkan data menggunakan unique() dan melihat berapa banyak data di dalam masing-masing tipe load menggunakan value_counts()."
   ]
  },
  {
   "cell_type": "code",
   "execution_count": 19,
   "metadata": {},
   "outputs": [
    {
     "data": {
      "text/plain": [
       "array(['TIRES', 'RECYCLING - SINGLE STREAM', 'YARD TRIMMING', 'BULK',\n",
       "       'DEAD ANIMAL', 'GARBAGE COLLECTIONS', 'MIXED LITTER', 'ORGANICS',\n",
       "       'BRUSH', 'SWEEPING', 'RECYCLED METAL', 'LITTER',\n",
       "       'CONTAMINATED RECYCLING', 'CONTAMINATED ORGANICS'], dtype=object)"
      ]
     },
     "execution_count": 19,
     "metadata": {},
     "output_type": "execute_result"
    }
   ],
   "source": [
    "tipe_load = df_austin.load_type.unique()\n",
    "tipe_load"
   ]
  },
  {
   "cell_type": "code",
   "execution_count": 20,
   "metadata": {},
   "outputs": [
    {
     "data": {
      "text/plain": [
       "GARBAGE COLLECTIONS          8241\n",
       "RECYCLING - SINGLE STREAM    6760\n",
       "ORGANICS                     5749\n",
       "BULK                         1594\n",
       "BRUSH                        1514\n",
       "SWEEPING                      360\n",
       "MIXED LITTER                  329\n",
       "TIRES                         175\n",
       "DEAD ANIMAL                   150\n",
       "YARD TRIMMING                 137\n",
       "RECYCLED METAL                 57\n",
       "LITTER                         41\n",
       "CONTAMINATED RECYCLING          1\n",
       "CONTAMINATED ORGANICS           1\n",
       "Name: load_type, dtype: int64"
      ]
     },
     "execution_count": 20,
     "metadata": {},
     "output_type": "execute_result"
    }
   ],
   "source": [
    "df_austin.load_type.value_counts()"
   ]
  },
  {
   "cell_type": "markdown",
   "metadata": {},
   "source": [
    "Selanjutnya mengetahui tempat pembuangan sampah ada dimana saja berdasarkan data menggunakan unique() dan melihat berapa banyak data di dalam masing-masing tempat menggunakan value_counts()."
   ]
  },
  {
   "cell_type": "code",
   "execution_count": 21,
   "metadata": {},
   "outputs": [
    {
     "data": {
      "text/plain": [
       "array(['MRF', 'TDS - MRF', 'HORNSBY BEND', 'TDS LANDFILL',\n",
       "       'ORGANICS BY GOSH', 'BALCONES RECYCLING', 'AUSTIN IRON AND METAL',\n",
       "       'GREAT NORTHERN', 'AUSTIN WOOD RECYCLING', 'PARK BEND',\n",
       "       'ON ROUTE HIGH DUMP', 'BALCONES WOODS', 'STEINER LANDFILL',\n",
       "       'WESTFIELD'], dtype=object)"
      ]
     },
     "execution_count": 21,
     "metadata": {},
     "output_type": "execute_result"
    }
   ],
   "source": [
    "tempat_pembuangan = df_austin.dropoff_site.unique()\n",
    "tempat_pembuangan"
   ]
  },
  {
   "cell_type": "code",
   "execution_count": 22,
   "metadata": {},
   "outputs": [
    {
     "data": {
      "text/plain": [
       "TDS LANDFILL             10691\n",
       "ORGANICS BY GOSH          5741\n",
       "BALCONES RECYCLING        3837\n",
       "TDS - MRF                 2948\n",
       "HORNSBY BEND              1652\n",
       "MRF                        168\n",
       "AUSTIN IRON AND METAL       50\n",
       "ON ROUTE HIGH DUMP           7\n",
       "GREAT NORTHERN               6\n",
       "PARK BEND                    4\n",
       "AUSTIN WOOD RECYCLING        2\n",
       "BALCONES WOODS               1\n",
       "STEINER LANDFILL             1\n",
       "WESTFIELD                    1\n",
       "Name: dropoff_site, dtype: int64"
      ]
     },
     "execution_count": 22,
     "metadata": {},
     "output_type": "execute_result"
    }
   ],
   "source": [
    "df_austin.dropoff_site.value_counts()"
   ]
  },
  {
   "cell_type": "markdown",
   "metadata": {},
   "source": [
    "Menghitung central tendency (mean, median, dan modus) masing-masing site."
   ]
  },
  {
   "cell_type": "code",
   "execution_count": 23,
   "metadata": {},
   "outputs": [],
   "source": [
    "nilai_mean = df_austin.groupby('dropoff_site')['load_weight'].apply(pd.Series.mean)\n",
    "nilai_median = df_austin.groupby('dropoff_site')['load_weight'].apply(pd.Series.median)\n",
    "nilai_modus = df_austin.groupby('dropoff_site')['load_weight'].apply(pd.Series.mode)"
   ]
  },
  {
   "cell_type": "markdown",
   "metadata": {},
   "source": [
    "Memanggil nilai mean dari setiap site"
   ]
  },
  {
   "cell_type": "code",
   "execution_count": 24,
   "metadata": {},
   "outputs": [
    {
     "data": {
      "text/plain": [
       "dropoff_site\n",
       "AUSTIN IRON AND METAL      451.200000\n",
       "AUSTIN WOOD RECYCLING     4050.000000\n",
       "BALCONES RECYCLING        9464.652072\n",
       "BALCONES WOODS            8460.000000\n",
       "GREAT NORTHERN           19153.333333\n",
       "HORNSBY BEND              6628.644068\n",
       "MRF                       1799.982143\n",
       "ON ROUTE HIGH DUMP       12525.714286\n",
       "ORGANICS BY GOSH         11818.482146\n",
       "PARK BEND                13385.000000\n",
       "STEINER LANDFILL           780.000000\n",
       "TDS - MRF                 9872.550882\n",
       "TDS LANDFILL             15169.407215\n",
       "WESTFIELD                16020.000000\n",
       "Name: load_weight, dtype: float64"
      ]
     },
     "execution_count": 24,
     "metadata": {},
     "output_type": "execute_result"
    }
   ],
   "source": [
    "nilai_mean"
   ]
  },
  {
   "cell_type": "markdown",
   "metadata": {},
   "source": [
    "Memanggil nilai median dari setiap site"
   ]
  },
  {
   "cell_type": "code",
   "execution_count": 25,
   "metadata": {},
   "outputs": [
    {
     "data": {
      "text/plain": [
       "dropoff_site\n",
       "AUSTIN IRON AND METAL      400.0\n",
       "AUSTIN WOOD RECYCLING     4050.0\n",
       "BALCONES RECYCLING        9840.0\n",
       "BALCONES WOODS            8460.0\n",
       "GREAT NORTHERN           21110.0\n",
       "HORNSBY BEND              6390.0\n",
       "MRF                       1360.0\n",
       "ON ROUTE HIGH DUMP       14940.0\n",
       "ORGANICS BY GOSH         11920.0\n",
       "PARK BEND                12330.0\n",
       "STEINER LANDFILL           780.0\n",
       "TDS - MRF                10330.0\n",
       "TDS LANDFILL             14920.0\n",
       "WESTFIELD                16020.0\n",
       "Name: load_weight, dtype: float64"
      ]
     },
     "execution_count": 25,
     "metadata": {},
     "output_type": "execute_result"
    }
   ],
   "source": [
    "nilai_median"
   ]
  },
  {
   "cell_type": "markdown",
   "metadata": {},
   "source": [
    "Memanggil nilai modus dari setiap site"
   ]
  },
  {
   "cell_type": "code",
   "execution_count": 26,
   "metadata": {},
   "outputs": [
    {
     "data": {
      "text/plain": [
       "dropoff_site            \n",
       "AUSTIN IRON AND METAL  0      260.0\n",
       "                       1      320.0\n",
       "                       2      520.0\n",
       "AUSTIN WOOD RECYCLING  0     2340.0\n",
       "                       1     5760.0\n",
       "BALCONES RECYCLING     0    11880.0\n",
       "BALCONES WOODS         0     8460.0\n",
       "GREAT NORTHERN         0     8700.0\n",
       "                       1    17160.0\n",
       "                       2    20900.0\n",
       "                       3    21320.0\n",
       "                       4    21960.0\n",
       "                       5    24880.0\n",
       "HORNSBY BEND           0     5500.0\n",
       "MRF                    0      960.0\n",
       "ON ROUTE HIGH DUMP     0     4060.0\n",
       "                       1     7480.0\n",
       "                       2    12500.0\n",
       "                       3    14940.0\n",
       "                       4    15040.0\n",
       "                       5    15200.0\n",
       "                       6    18460.0\n",
       "ORGANICS BY GOSH       0    14580.0\n",
       "PARK BEND              0     8480.0\n",
       "                       1     8960.0\n",
       "                       2    15700.0\n",
       "                       3    20400.0\n",
       "STEINER LANDFILL       0      780.0\n",
       "TDS - MRF              0    10360.0\n",
       "TDS LANDFILL           0       20.0\n",
       "                       1       60.0\n",
       "                       2    12020.0\n",
       "WESTFIELD              0    16020.0\n",
       "Name: load_weight, dtype: float64"
      ]
     },
     "execution_count": 26,
     "metadata": {},
     "output_type": "execute_result"
    }
   ],
   "source": [
    "nilai_modus"
   ]
  },
  {
   "cell_type": "markdown",
   "metadata": {},
   "source": [
    "Bagaimana dengan modus pada load_type atau dropoff site , kita akan lihat satu persatu, pengamatan nilai modus ini memungkinkan kita untuk melihat jenis load type apa yang sering terjadi pada proses pengumpulan sampah ini begitu juga tempat site mana yang sering dugunakan. "
   ]
  },
  {
   "cell_type": "code",
   "execution_count": 27,
   "metadata": {},
   "outputs": [
    {
     "data": {
      "text/plain": [
       "dropoff_site            \n",
       "AUSTIN IRON AND METAL  0               RECYCLED METAL\n",
       "AUSTIN WOOD RECYCLING  0    RECYCLING - SINGLE STREAM\n",
       "BALCONES RECYCLING     0    RECYCLING - SINGLE STREAM\n",
       "BALCONES WOODS         0    RECYCLING - SINGLE STREAM\n",
       "GREAT NORTHERN         0          GARBAGE COLLECTIONS\n",
       "HORNSBY BEND           0                        BRUSH\n",
       "MRF                    0                        TIRES\n",
       "ON ROUTE HIGH DUMP     0                     ORGANICS\n",
       "ORGANICS BY GOSH       0                     ORGANICS\n",
       "PARK BEND              0                     ORGANICS\n",
       "STEINER LANDFILL       0          GARBAGE COLLECTIONS\n",
       "TDS - MRF              0    RECYCLING - SINGLE STREAM\n",
       "TDS LANDFILL           0          GARBAGE COLLECTIONS\n",
       "WESTFIELD              0          GARBAGE COLLECTIONS\n",
       "Name: load_type, dtype: object"
      ]
     },
     "execution_count": 27,
     "metadata": {},
     "output_type": "execute_result"
    }
   ],
   "source": [
    "nilai_modus_type = df_austin.groupby('dropoff_site')['load_type'].apply(pd.Series.mode)\n",
    "nilai_modus_type"
   ]
  },
  {
   "cell_type": "code",
   "execution_count": 28,
   "metadata": {},
   "outputs": [
    {
     "data": {
      "text/plain": [
       "load_type                   \n",
       "BRUSH                      0             HORNSBY BEND\n",
       "BULK                       0             TDS LANDFILL\n",
       "CONTAMINATED ORGANICS      0             TDS LANDFILL\n",
       "CONTAMINATED RECYCLING     0             TDS LANDFILL\n",
       "DEAD ANIMAL                0             TDS LANDFILL\n",
       "GARBAGE COLLECTIONS        0             TDS LANDFILL\n",
       "LITTER                     0             TDS LANDFILL\n",
       "MIXED LITTER               0             TDS LANDFILL\n",
       "ORGANICS                   0         ORGANICS BY GOSH\n",
       "RECYCLED METAL             0    AUSTIN IRON AND METAL\n",
       "RECYCLING - SINGLE STREAM  0       BALCONES RECYCLING\n",
       "SWEEPING                   0             TDS LANDFILL\n",
       "TIRES                      0                      MRF\n",
       "YARD TRIMMING              0             HORNSBY BEND\n",
       "Name: dropoff_site, dtype: object"
      ]
     },
     "execution_count": 28,
     "metadata": {},
     "output_type": "execute_result"
    }
   ],
   "source": [
    "nilai_modus_drop = df_austin.groupby('load_type')['dropoff_site'].apply(pd.Series.mode)\n",
    "nilai_modus_drop"
   ]
  },
  {
   "cell_type": "markdown",
   "metadata": {},
   "source": [
    "Selain melihat central tendency (mean,median dan modus), kita akan melihat nilai min, max dan sum dari masing-masing site , menggunakan metode groupby dan agg. Diurutkan berdasarkan jumlah sum tertinggi ke rendah."
   ]
  },
  {
   "cell_type": "code",
   "execution_count": 29,
   "metadata": {},
   "outputs": [],
   "source": [
    "site = df_austin.groupby('dropoff_site')['load_weight'].agg(['mean','median','min','max','sum']).sort_values(by = 'sum',ascending=False)"
   ]
  },
  {
   "cell_type": "code",
   "execution_count": 30,
   "metadata": {},
   "outputs": [
    {
     "data": {
      "text/html": [
       "<div>\n",
       "<style scoped>\n",
       "    .dataframe tbody tr th:only-of-type {\n",
       "        vertical-align: middle;\n",
       "    }\n",
       "\n",
       "    .dataframe tbody tr th {\n",
       "        vertical-align: top;\n",
       "    }\n",
       "\n",
       "    .dataframe thead th {\n",
       "        text-align: right;\n",
       "    }\n",
       "</style>\n",
       "<table border=\"1\" class=\"dataframe\">\n",
       "  <thead>\n",
       "    <tr style=\"text-align: right;\">\n",
       "      <th></th>\n",
       "      <th>mean</th>\n",
       "      <th>median</th>\n",
       "      <th>min</th>\n",
       "      <th>max</th>\n",
       "      <th>sum</th>\n",
       "    </tr>\n",
       "    <tr>\n",
       "      <th>dropoff_site</th>\n",
       "      <th></th>\n",
       "      <th></th>\n",
       "      <th></th>\n",
       "      <th></th>\n",
       "      <th></th>\n",
       "    </tr>\n",
       "  </thead>\n",
       "  <tbody>\n",
       "    <tr>\n",
       "      <th>TDS LANDFILL</th>\n",
       "      <td>15169.407215</td>\n",
       "      <td>14920.0</td>\n",
       "      <td>0.0</td>\n",
       "      <td>245540.0</td>\n",
       "      <td>1.621761e+08</td>\n",
       "    </tr>\n",
       "    <tr>\n",
       "      <th>ORGANICS BY GOSH</th>\n",
       "      <td>11818.482146</td>\n",
       "      <td>11920.0</td>\n",
       "      <td>20.0</td>\n",
       "      <td>29660.0</td>\n",
       "      <td>6.784991e+07</td>\n",
       "    </tr>\n",
       "    <tr>\n",
       "      <th>BALCONES RECYCLING</th>\n",
       "      <td>9464.652072</td>\n",
       "      <td>9840.0</td>\n",
       "      <td>140.0</td>\n",
       "      <td>25780.0</td>\n",
       "      <td>3.631587e+07</td>\n",
       "    </tr>\n",
       "    <tr>\n",
       "      <th>TDS - MRF</th>\n",
       "      <td>9872.550882</td>\n",
       "      <td>10330.0</td>\n",
       "      <td>40.0</td>\n",
       "      <td>29940.0</td>\n",
       "      <td>2.910428e+07</td>\n",
       "    </tr>\n",
       "    <tr>\n",
       "      <th>HORNSBY BEND</th>\n",
       "      <td>6628.644068</td>\n",
       "      <td>6390.0</td>\n",
       "      <td>60.0</td>\n",
       "      <td>20460.0</td>\n",
       "      <td>1.095052e+07</td>\n",
       "    </tr>\n",
       "    <tr>\n",
       "      <th>MRF</th>\n",
       "      <td>1799.982143</td>\n",
       "      <td>1360.0</td>\n",
       "      <td>40.0</td>\n",
       "      <td>17500.0</td>\n",
       "      <td>3.023970e+05</td>\n",
       "    </tr>\n",
       "    <tr>\n",
       "      <th>GREAT NORTHERN</th>\n",
       "      <td>19153.333333</td>\n",
       "      <td>21110.0</td>\n",
       "      <td>8700.0</td>\n",
       "      <td>24880.0</td>\n",
       "      <td>1.149200e+05</td>\n",
       "    </tr>\n",
       "    <tr>\n",
       "      <th>ON ROUTE HIGH DUMP</th>\n",
       "      <td>12525.714286</td>\n",
       "      <td>14940.0</td>\n",
       "      <td>4060.0</td>\n",
       "      <td>18460.0</td>\n",
       "      <td>8.768000e+04</td>\n",
       "    </tr>\n",
       "    <tr>\n",
       "      <th>PARK BEND</th>\n",
       "      <td>13385.000000</td>\n",
       "      <td>12330.0</td>\n",
       "      <td>8480.0</td>\n",
       "      <td>20400.0</td>\n",
       "      <td>5.354000e+04</td>\n",
       "    </tr>\n",
       "    <tr>\n",
       "      <th>AUSTIN IRON AND METAL</th>\n",
       "      <td>451.200000</td>\n",
       "      <td>400.0</td>\n",
       "      <td>140.0</td>\n",
       "      <td>1060.0</td>\n",
       "      <td>2.256000e+04</td>\n",
       "    </tr>\n",
       "    <tr>\n",
       "      <th>WESTFIELD</th>\n",
       "      <td>16020.000000</td>\n",
       "      <td>16020.0</td>\n",
       "      <td>16020.0</td>\n",
       "      <td>16020.0</td>\n",
       "      <td>1.602000e+04</td>\n",
       "    </tr>\n",
       "    <tr>\n",
       "      <th>BALCONES WOODS</th>\n",
       "      <td>8460.000000</td>\n",
       "      <td>8460.0</td>\n",
       "      <td>8460.0</td>\n",
       "      <td>8460.0</td>\n",
       "      <td>8.460000e+03</td>\n",
       "    </tr>\n",
       "    <tr>\n",
       "      <th>AUSTIN WOOD RECYCLING</th>\n",
       "      <td>4050.000000</td>\n",
       "      <td>4050.0</td>\n",
       "      <td>2340.0</td>\n",
       "      <td>5760.0</td>\n",
       "      <td>8.100000e+03</td>\n",
       "    </tr>\n",
       "    <tr>\n",
       "      <th>STEINER LANDFILL</th>\n",
       "      <td>780.000000</td>\n",
       "      <td>780.0</td>\n",
       "      <td>780.0</td>\n",
       "      <td>780.0</td>\n",
       "      <td>7.800000e+02</td>\n",
       "    </tr>\n",
       "  </tbody>\n",
       "</table>\n",
       "</div>"
      ],
      "text/plain": [
       "                               mean   median      min       max           sum\n",
       "dropoff_site                                                                 \n",
       "TDS LANDFILL           15169.407215  14920.0      0.0  245540.0  1.621761e+08\n",
       "ORGANICS BY GOSH       11818.482146  11920.0     20.0   29660.0  6.784991e+07\n",
       "BALCONES RECYCLING      9464.652072   9840.0    140.0   25780.0  3.631587e+07\n",
       "TDS - MRF               9872.550882  10330.0     40.0   29940.0  2.910428e+07\n",
       "HORNSBY BEND            6628.644068   6390.0     60.0   20460.0  1.095052e+07\n",
       "MRF                     1799.982143   1360.0     40.0   17500.0  3.023970e+05\n",
       "GREAT NORTHERN         19153.333333  21110.0   8700.0   24880.0  1.149200e+05\n",
       "ON ROUTE HIGH DUMP     12525.714286  14940.0   4060.0   18460.0  8.768000e+04\n",
       "PARK BEND              13385.000000  12330.0   8480.0   20400.0  5.354000e+04\n",
       "AUSTIN IRON AND METAL    451.200000    400.0    140.0    1060.0  2.256000e+04\n",
       "WESTFIELD              16020.000000  16020.0  16020.0   16020.0  1.602000e+04\n",
       "BALCONES WOODS          8460.000000   8460.0   8460.0    8460.0  8.460000e+03\n",
       "AUSTIN WOOD RECYCLING   4050.000000   4050.0   2340.0    5760.0  8.100000e+03\n",
       "STEINER LANDFILL         780.000000    780.0    780.0     780.0  7.800000e+02"
      ]
     },
     "execution_count": 30,
     "metadata": {},
     "output_type": "execute_result"
    }
   ],
   "source": [
    "site"
   ]
  },
  {
   "cell_type": "markdown",
   "metadata": {},
   "source": [
    "Setelah menghitung central tendency untuk setiap situs dropoff, didapatkan informasi tentang sekilas distribusi data.\n",
    "Misalnya bisa kita lihat jumlah sampah terbanyak ada di dropoff site TDS Lanfill menyusul dibawahnya ada Organics by Gosh. \n",
    "Untuk nilai mean dan median nya tidak terdapat perbedaan yang signifikan artinya distribusi sampah cukup merata di 2 site tersebut. \n",
    "Namun kita harus tinjau lebih lenjut lagi untuk mengetahui analisis lengkapnya. Selanjutnya untuk distribusi total sampah jika dibandingkan dengan tingkat terbawah sangat berbeda sekali, mungkin hal ini bisa menjadi pertimbangan pemerintah untuk lebih mendistribusikan sampah ke beberapa site secara merata."
   ]
  },
  {
   "cell_type": "markdown",
   "metadata": {},
   "source": [
    "Selanjutnya saya memilih dropoff_site ORGANICS BY GOSH karena saya melihat jumlah total sampah di site tersebut di posisi kedua teratas setelah TDS Lanfill, dan di dominasi oleh sampah organics. Selanjutnya kita akan melihat  secara rinci hanya di site tersebut untuk mengetahui seberapa persebaran data di site tersebut.\n",
    "\n",
    "Saya menggunakan nama organic_gosh untu data yang hanya berisi site 'organic by gosh' saja."
   ]
  },
  {
   "cell_type": "code",
   "execution_count": 31,
   "metadata": {},
   "outputs": [],
   "source": [
    "organic_gosh = df_austin[(df_austin['dropoff_site']=='ORGANICS BY GOSH')]"
   ]
  },
  {
   "cell_type": "code",
   "execution_count": 32,
   "metadata": {},
   "outputs": [
    {
     "data": {
      "text/html": [
       "<div>\n",
       "<style scoped>\n",
       "    .dataframe tbody tr th:only-of-type {\n",
       "        vertical-align: middle;\n",
       "    }\n",
       "\n",
       "    .dataframe tbody tr th {\n",
       "        vertical-align: top;\n",
       "    }\n",
       "\n",
       "    .dataframe thead th {\n",
       "        text-align: right;\n",
       "    }\n",
       "</style>\n",
       "<table border=\"1\" class=\"dataframe\">\n",
       "  <thead>\n",
       "    <tr style=\"text-align: right;\">\n",
       "      <th></th>\n",
       "      <th>report_date</th>\n",
       "      <th>load_type</th>\n",
       "      <th>load_weight</th>\n",
       "      <th>dropoff_site</th>\n",
       "    </tr>\n",
       "  </thead>\n",
       "  <tbody>\n",
       "    <tr>\n",
       "      <th>75</th>\n",
       "      <td>2021-01-02</td>\n",
       "      <td>ORGANICS</td>\n",
       "      <td>15800.0</td>\n",
       "      <td>ORGANICS BY GOSH</td>\n",
       "    </tr>\n",
       "    <tr>\n",
       "      <th>76</th>\n",
       "      <td>2021-01-02</td>\n",
       "      <td>ORGANICS</td>\n",
       "      <td>20760.0</td>\n",
       "      <td>ORGANICS BY GOSH</td>\n",
       "    </tr>\n",
       "    <tr>\n",
       "      <th>77</th>\n",
       "      <td>2021-01-02</td>\n",
       "      <td>ORGANICS</td>\n",
       "      <td>14450.0</td>\n",
       "      <td>ORGANICS BY GOSH</td>\n",
       "    </tr>\n",
       "    <tr>\n",
       "      <th>78</th>\n",
       "      <td>2021-01-02</td>\n",
       "      <td>ORGANICS</td>\n",
       "      <td>5980.0</td>\n",
       "      <td>ORGANICS BY GOSH</td>\n",
       "    </tr>\n",
       "    <tr>\n",
       "      <th>79</th>\n",
       "      <td>2021-01-02</td>\n",
       "      <td>ORGANICS</td>\n",
       "      <td>19540.0</td>\n",
       "      <td>ORGANICS BY GOSH</td>\n",
       "    </tr>\n",
       "    <tr>\n",
       "      <th>...</th>\n",
       "      <td>...</td>\n",
       "      <td>...</td>\n",
       "      <td>...</td>\n",
       "      <td>...</td>\n",
       "    </tr>\n",
       "    <tr>\n",
       "      <th>26125</th>\n",
       "      <td>2021-07-08</td>\n",
       "      <td>ORGANICS</td>\n",
       "      <td>13760.0</td>\n",
       "      <td>ORGANICS BY GOSH</td>\n",
       "    </tr>\n",
       "    <tr>\n",
       "      <th>26126</th>\n",
       "      <td>2021-07-08</td>\n",
       "      <td>ORGANICS</td>\n",
       "      <td>6180.0</td>\n",
       "      <td>ORGANICS BY GOSH</td>\n",
       "    </tr>\n",
       "    <tr>\n",
       "      <th>26127</th>\n",
       "      <td>2021-07-08</td>\n",
       "      <td>ORGANICS</td>\n",
       "      <td>10140.0</td>\n",
       "      <td>ORGANICS BY GOSH</td>\n",
       "    </tr>\n",
       "    <tr>\n",
       "      <th>26128</th>\n",
       "      <td>2021-07-08</td>\n",
       "      <td>ORGANICS</td>\n",
       "      <td>10640.0</td>\n",
       "      <td>ORGANICS BY GOSH</td>\n",
       "    </tr>\n",
       "    <tr>\n",
       "      <th>26129</th>\n",
       "      <td>2021-07-08</td>\n",
       "      <td>ORGANICS</td>\n",
       "      <td>5000.0</td>\n",
       "      <td>ORGANICS BY GOSH</td>\n",
       "    </tr>\n",
       "  </tbody>\n",
       "</table>\n",
       "<p>5741 rows × 4 columns</p>\n",
       "</div>"
      ],
      "text/plain": [
       "      report_date load_type  load_weight      dropoff_site\n",
       "75     2021-01-02  ORGANICS      15800.0  ORGANICS BY GOSH\n",
       "76     2021-01-02  ORGANICS      20760.0  ORGANICS BY GOSH\n",
       "77     2021-01-02  ORGANICS      14450.0  ORGANICS BY GOSH\n",
       "78     2021-01-02  ORGANICS       5980.0  ORGANICS BY GOSH\n",
       "79     2021-01-02  ORGANICS      19540.0  ORGANICS BY GOSH\n",
       "...           ...       ...          ...               ...\n",
       "26125  2021-07-08  ORGANICS      13760.0  ORGANICS BY GOSH\n",
       "26126  2021-07-08  ORGANICS       6180.0  ORGANICS BY GOSH\n",
       "26127  2021-07-08  ORGANICS      10140.0  ORGANICS BY GOSH\n",
       "26128  2021-07-08  ORGANICS      10640.0  ORGANICS BY GOSH\n",
       "26129  2021-07-08  ORGANICS       5000.0  ORGANICS BY GOSH\n",
       "\n",
       "[5741 rows x 4 columns]"
      ]
     },
     "execution_count": 32,
     "metadata": {},
     "output_type": "execute_result"
    }
   ],
   "source": [
    "organic_gosh"
   ]
  },
  {
   "cell_type": "markdown",
   "metadata": {},
   "source": [
    "Melihat secara rinci load_type apa saja yang ada di site ORGANICS BY GOSH beserta nilai mean, median, min, max dan sum berdasarkan masing masing load type."
   ]
  },
  {
   "cell_type": "code",
   "execution_count": 33,
   "metadata": {},
   "outputs": [
    {
     "data": {
      "text/html": [
       "<div>\n",
       "<style scoped>\n",
       "    .dataframe tbody tr th:only-of-type {\n",
       "        vertical-align: middle;\n",
       "    }\n",
       "\n",
       "    .dataframe tbody tr th {\n",
       "        vertical-align: top;\n",
       "    }\n",
       "\n",
       "    .dataframe thead th {\n",
       "        text-align: right;\n",
       "    }\n",
       "</style>\n",
       "<table border=\"1\" class=\"dataframe\">\n",
       "  <thead>\n",
       "    <tr style=\"text-align: right;\">\n",
       "      <th></th>\n",
       "      <th>mean</th>\n",
       "      <th>median</th>\n",
       "      <th>min</th>\n",
       "      <th>max</th>\n",
       "      <th>sum</th>\n",
       "    </tr>\n",
       "    <tr>\n",
       "      <th>load_type</th>\n",
       "      <th></th>\n",
       "      <th></th>\n",
       "      <th></th>\n",
       "      <th></th>\n",
       "      <th></th>\n",
       "    </tr>\n",
       "  </thead>\n",
       "  <tbody>\n",
       "    <tr>\n",
       "      <th>SWEEPING</th>\n",
       "      <td>15200.000000</td>\n",
       "      <td>15200.0</td>\n",
       "      <td>14460.0</td>\n",
       "      <td>15940.0</td>\n",
       "      <td>30400.0</td>\n",
       "    </tr>\n",
       "    <tr>\n",
       "      <th>RECYCLED METAL</th>\n",
       "      <td>12532.000000</td>\n",
       "      <td>11040.0</td>\n",
       "      <td>5160.0</td>\n",
       "      <td>20760.0</td>\n",
       "      <td>62660.0</td>\n",
       "    </tr>\n",
       "    <tr>\n",
       "      <th>ORGANICS</th>\n",
       "      <td>11855.961848</td>\n",
       "      <td>11940.0</td>\n",
       "      <td>20.0</td>\n",
       "      <td>29660.0</td>\n",
       "      <td>67744966.0</td>\n",
       "    </tr>\n",
       "    <tr>\n",
       "      <th>GARBAGE COLLECTIONS</th>\n",
       "      <td>7500.000000</td>\n",
       "      <td>7500.0</td>\n",
       "      <td>7500.0</td>\n",
       "      <td>7500.0</td>\n",
       "      <td>7500.0</td>\n",
       "    </tr>\n",
       "    <tr>\n",
       "      <th>DEAD ANIMAL</th>\n",
       "      <td>230.526316</td>\n",
       "      <td>100.0</td>\n",
       "      <td>20.0</td>\n",
       "      <td>1720.0</td>\n",
       "      <td>4380.0</td>\n",
       "    </tr>\n",
       "  </tbody>\n",
       "</table>\n",
       "</div>"
      ],
      "text/plain": [
       "                             mean   median      min      max         sum\n",
       "load_type                                                               \n",
       "SWEEPING             15200.000000  15200.0  14460.0  15940.0     30400.0\n",
       "RECYCLED METAL       12532.000000  11040.0   5160.0  20760.0     62660.0\n",
       "ORGANICS             11855.961848  11940.0     20.0  29660.0  67744966.0\n",
       "GARBAGE COLLECTIONS   7500.000000   7500.0   7500.0   7500.0      7500.0\n",
       "DEAD ANIMAL            230.526316    100.0     20.0   1720.0      4380.0"
      ]
     },
     "execution_count": 33,
     "metadata": {},
     "output_type": "execute_result"
    }
   ],
   "source": [
    "organic_gosh.groupby('load_type')['load_weight'].agg(['mean','median','min','max','sum']).sort_values(by = 'mean',ascending=False)"
   ]
  },
  {
   "cell_type": "code",
   "execution_count": 34,
   "metadata": {},
   "outputs": [
    {
     "data": {
      "text/plain": [
       "'ORGANICS'"
      ]
     },
     "execution_count": 34,
     "metadata": {},
     "output_type": "execute_result"
    }
   ],
   "source": [
    "organic_gosh['load_type'].mode()[0]"
   ]
  },
  {
   "cell_type": "markdown",
   "metadata": {},
   "source": [
    "Kita bisa melihat jumlah sampah terbanyak berada pada jenis organics. Selain itu jenis sampah yang sering dibuang juga adalah jenis organics di site tersebut."
   ]
  },
  {
   "cell_type": "markdown",
   "metadata": {},
   "source": [
    "Selanjutnya melakukan Analisis menghitung Central Tendency dan nilai minimum, maksimum dan standar deviasi untuk melihat persebaran data pada site ORGANICS BY GOSH secara keseluruhan."
   ]
  },
  {
   "cell_type": "code",
   "execution_count": 35,
   "metadata": {},
   "outputs": [
    {
     "name": "stdout",
     "output_type": "stream",
     "text": [
      "Mean: 11818.482145967602\n",
      "Median: 11920.0\n",
      "Mode: 14580.0\n",
      "Std: 5070.763917897264\n",
      "Min: 20.0\n",
      "Max: 29660.0\n"
     ]
    }
   ],
   "source": [
    "print ('Mean: ' + str(organic_gosh['load_weight'].mean()))\n",
    "print ('Median: ' + str(organic_gosh['load_weight'].median()))\n",
    "print ('Mode: ' + str(organic_gosh['load_weight'].mode()[0]))\n",
    "print ('Std: ' + str(organic_gosh['load_weight'].std()))\n",
    "print ('Min: ' + str(organic_gosh['load_weight'].min()))\n",
    "print ('Max: ' + str(organic_gosh['load_weight'].max()))"
   ]
  },
  {
   "cell_type": "markdown",
   "metadata": {},
   "source": [
    "Hasil perhitungan Central Tendency organic_gosh :\n",
    "\n",
    "- Mean: 11818.482145967602\n",
    "- Median: 11920.0\n",
    "- Mode: 14580.0\n",
    "\n"
   ]
  },
  {
   "cell_type": "markdown",
   "metadata": {},
   "source": [
    "menghitung besarnya nilai skew untuk mengetahui tipe distribusi dataset organic_gosh "
   ]
  },
  {
   "cell_type": "code",
   "execution_count": 36,
   "metadata": {},
   "outputs": [
    {
     "name": "stdout",
     "output_type": "stream",
     "text": [
      "0.05856144528281354\n"
     ]
    }
   ],
   "source": [
    "print(organic_gosh['load_weight'].skew())"
   ]
  },
  {
   "cell_type": "markdown",
   "metadata": {},
   "source": [
    "dari hasil perhitungan skew diatas diketahui :\n",
    "- Dengan kondisi jika nilai skewness = 0 , maka distribusi data benar-benar simetris / normal distribution.\n",
    "- Jika skewness diantara -0.5 dan 0.5 maka data fairly symmetrical.\n",
    "- Jika skewness diantara -1 dan –0.5 atau antara 0.5 dan 1 maka data moderately skewed.\n",
    "- Jika skewness kurang dari -1 atau lebih 1 maka data highly skewed.\n",
    "\n",
    "Nilai skewness : 0.05856144528281354 artinya data fairly symmetrical, bisa diasumsikan bahwa dataset tersebut termasuk Distribusi normal. \n",
    "Mari kita lihat dari visualisasi plot berikut untuk lebih detailnya. \n",
    "\n"
   ]
  },
  {
   "cell_type": "code",
   "execution_count": 37,
   "metadata": {},
   "outputs": [
    {
     "data": {
      "image/png": "[encoded data removed]",
      "text/plain": [
       "<Figure size 432x288 with 1 Axes>"
      ]
     },
     "metadata": {
      "needs_background": "light"
     },
     "output_type": "display_data"
    }
   ],
   "source": [
    "loadweight = organic_gosh['load_weight']\n",
    "loadweight.plot.hist(title='Data Distribution Organic by Gosh ', color='lightblue', bins=25)\n",
    "plt.xlabel('Load Weight')\n",
    "plt.ylabel('Count')  \n",
    "plt.axvline(loadweight.mean(), color='red', linestyle='dashed', linewidth=2)\n",
    "plt.axvline(loadweight.median(), color='green', linestyle='dashed', linewidth=2)\n",
    "plt.show()"
   ]
  },
  {
   "cell_type": "code",
   "execution_count": 39,
   "metadata": {},
   "outputs": [
    {
     "data": {
      "text/plain": [
       "<seaborn.axisgrid.FacetGrid at 0x2ce97535df0>"
      ]
     },
     "execution_count": 39,
     "metadata": {},
     "output_type": "execute_result"
    },
    {
     "data": {
      "image/png": "[encoded data removed]",
      "text/plain": [
       "<Figure size 360x360 with 1 Axes>"
      ]
     },
     "metadata": {
      "needs_background": "light"
     },
     "output_type": "display_data"
    }
   ],
   "source": [
    "sns.displot(organic_gosh.load_weight, kde=True, label='Load Weight in Organic by Gosh')"
   ]
  },
  {
   "cell_type": "markdown",
   "metadata": {},
   "source": [
    "Memvisualisasikan boxplot untuk lihat apakah ada outlier."
   ]
  },
  {
   "cell_type": "code",
   "execution_count": 40,
   "metadata": {},
   "outputs": [
    {
     "data": {
      "text/plain": [
       "<AxesSubplot:ylabel='load_weight'>"
      ]
     },
     "execution_count": 40,
     "metadata": {},
     "output_type": "execute_result"
    },
    {
     "data": {
      "image/png": "[encoded data removed]",
      "text/plain": [
       "<Figure size 432x288 with 1 Axes>"
      ]
     },
     "metadata": {
      "needs_background": "light"
     },
     "output_type": "display_data"
    }
   ],
   "source": [
    "sns.boxplot(data=organic_gosh, y='load_weight')"
   ]
  },
  {
   "cell_type": "markdown",
   "metadata": {},
   "source": [
    "Berdasarkan boxplot terdapat data outlier, mari kita cek dengan perhitungan z score, karena data merupakan distribusi normal maka kita akan menggunakan metode z-score. \n"
   ]
  },
  {
   "cell_type": "code",
   "execution_count": 41,
   "metadata": {},
   "outputs": [
    {
     "name": "stderr",
     "output_type": "stream",
     "text": [
      "C:\\Users\\lenovo\\AppData\\Local\\Temp\\ipykernel_11040\\2434580772.py:1: SettingWithCopyWarning: \n",
      "A value is trying to be set on a copy of a slice from a DataFrame.\n",
      "Try using .loc[row_indexer,col_indexer] = value instead\n",
      "\n",
      "See the caveats in the documentation: https://pandas.pydata.org/pandas-docs/stable/user_guide/indexing.html#returning-a-view-versus-a-copy\n",
      "  organic_gosh['Z-Score'] = stats.zscore(organic_gosh['load_weight'])\n"
     ]
    },
    {
     "data": {
      "text/html": [
       "<div>\n",
       "<style scoped>\n",
       "    .dataframe tbody tr th:only-of-type {\n",
       "        vertical-align: middle;\n",
       "    }\n",
       "\n",
       "    .dataframe tbody tr th {\n",
       "        vertical-align: top;\n",
       "    }\n",
       "\n",
       "    .dataframe thead th {\n",
       "        text-align: right;\n",
       "    }\n",
       "</style>\n",
       "<table border=\"1\" class=\"dataframe\">\n",
       "  <thead>\n",
       "    <tr style=\"text-align: right;\">\n",
       "      <th></th>\n",
       "      <th>report_date</th>\n",
       "      <th>load_type</th>\n",
       "      <th>load_weight</th>\n",
       "      <th>dropoff_site</th>\n",
       "      <th>Z-Score</th>\n",
       "    </tr>\n",
       "  </thead>\n",
       "  <tbody>\n",
       "    <tr>\n",
       "      <th>75</th>\n",
       "      <td>2021-01-02</td>\n",
       "      <td>ORGANICS</td>\n",
       "      <td>15800.0</td>\n",
       "      <td>ORGANICS BY GOSH</td>\n",
       "      <td>0.785259</td>\n",
       "    </tr>\n",
       "    <tr>\n",
       "      <th>76</th>\n",
       "      <td>2021-01-02</td>\n",
       "      <td>ORGANICS</td>\n",
       "      <td>20760.0</td>\n",
       "      <td>ORGANICS BY GOSH</td>\n",
       "      <td>1.763501</td>\n",
       "    </tr>\n",
       "    <tr>\n",
       "      <th>77</th>\n",
       "      <td>2021-01-02</td>\n",
       "      <td>ORGANICS</td>\n",
       "      <td>14450.0</td>\n",
       "      <td>ORGANICS BY GOSH</td>\n",
       "      <td>0.519004</td>\n",
       "    </tr>\n",
       "    <tr>\n",
       "      <th>78</th>\n",
       "      <td>2021-01-02</td>\n",
       "      <td>ORGANICS</td>\n",
       "      <td>5980.0</td>\n",
       "      <td>ORGANICS BY GOSH</td>\n",
       "      <td>-1.151501</td>\n",
       "    </tr>\n",
       "    <tr>\n",
       "      <th>79</th>\n",
       "      <td>2021-01-02</td>\n",
       "      <td>ORGANICS</td>\n",
       "      <td>19540.0</td>\n",
       "      <td>ORGANICS BY GOSH</td>\n",
       "      <td>1.522885</td>\n",
       "    </tr>\n",
       "    <tr>\n",
       "      <th>...</th>\n",
       "      <td>...</td>\n",
       "      <td>...</td>\n",
       "      <td>...</td>\n",
       "      <td>...</td>\n",
       "      <td>...</td>\n",
       "    </tr>\n",
       "    <tr>\n",
       "      <th>26125</th>\n",
       "      <td>2021-07-08</td>\n",
       "      <td>ORGANICS</td>\n",
       "      <td>13760.0</td>\n",
       "      <td>ORGANICS BY GOSH</td>\n",
       "      <td>0.382918</td>\n",
       "    </tr>\n",
       "    <tr>\n",
       "      <th>26126</th>\n",
       "      <td>2021-07-08</td>\n",
       "      <td>ORGANICS</td>\n",
       "      <td>6180.0</td>\n",
       "      <td>ORGANICS BY GOSH</td>\n",
       "      <td>-1.112056</td>\n",
       "    </tr>\n",
       "    <tr>\n",
       "      <th>26127</th>\n",
       "      <td>2021-07-08</td>\n",
       "      <td>ORGANICS</td>\n",
       "      <td>10140.0</td>\n",
       "      <td>ORGANICS BY GOSH</td>\n",
       "      <td>-0.331041</td>\n",
       "    </tr>\n",
       "    <tr>\n",
       "      <th>26128</th>\n",
       "      <td>2021-07-08</td>\n",
       "      <td>ORGANICS</td>\n",
       "      <td>10640.0</td>\n",
       "      <td>ORGANICS BY GOSH</td>\n",
       "      <td>-0.232427</td>\n",
       "    </tr>\n",
       "    <tr>\n",
       "      <th>26129</th>\n",
       "      <td>2021-07-08</td>\n",
       "      <td>ORGANICS</td>\n",
       "      <td>5000.0</td>\n",
       "      <td>ORGANICS BY GOSH</td>\n",
       "      <td>-1.344783</td>\n",
       "    </tr>\n",
       "  </tbody>\n",
       "</table>\n",
       "<p>5741 rows × 5 columns</p>\n",
       "</div>"
      ],
      "text/plain": [
       "      report_date load_type  load_weight      dropoff_site   Z-Score\n",
       "75     2021-01-02  ORGANICS      15800.0  ORGANICS BY GOSH  0.785259\n",
       "76     2021-01-02  ORGANICS      20760.0  ORGANICS BY GOSH  1.763501\n",
       "77     2021-01-02  ORGANICS      14450.0  ORGANICS BY GOSH  0.519004\n",
       "78     2021-01-02  ORGANICS       5980.0  ORGANICS BY GOSH -1.151501\n",
       "79     2021-01-02  ORGANICS      19540.0  ORGANICS BY GOSH  1.522885\n",
       "...           ...       ...          ...               ...       ...\n",
       "26125  2021-07-08  ORGANICS      13760.0  ORGANICS BY GOSH  0.382918\n",
       "26126  2021-07-08  ORGANICS       6180.0  ORGANICS BY GOSH -1.112056\n",
       "26127  2021-07-08  ORGANICS      10140.0  ORGANICS BY GOSH -0.331041\n",
       "26128  2021-07-08  ORGANICS      10640.0  ORGANICS BY GOSH -0.232427\n",
       "26129  2021-07-08  ORGANICS       5000.0  ORGANICS BY GOSH -1.344783\n",
       "\n",
       "[5741 rows x 5 columns]"
      ]
     },
     "execution_count": 41,
     "metadata": {},
     "output_type": "execute_result"
    }
   ],
   "source": [
    "organic_gosh['Z-Score'] = stats.zscore(organic_gosh['load_weight'])\n",
    "organic_gosh"
   ]
  },
  {
   "cell_type": "markdown",
   "metadata": {},
   "source": [
    "Perhitungan z-score sudah selesai dan kita bisa lihat nilai z-core perbaris. Selanjutnya melihat berapa banyaknya outlier dengan menggunakan batasan z-score ."
   ]
  },
  {
   "cell_type": "code",
   "execution_count": 42,
   "metadata": {},
   "outputs": [
    {
     "data": {
      "text/html": [
       "<div>\n",
       "<style scoped>\n",
       "    .dataframe tbody tr th:only-of-type {\n",
       "        vertical-align: middle;\n",
       "    }\n",
       "\n",
       "    .dataframe tbody tr th {\n",
       "        vertical-align: top;\n",
       "    }\n",
       "\n",
       "    .dataframe thead th {\n",
       "        text-align: right;\n",
       "    }\n",
       "</style>\n",
       "<table border=\"1\" class=\"dataframe\">\n",
       "  <thead>\n",
       "    <tr style=\"text-align: right;\">\n",
       "      <th></th>\n",
       "      <th>report_date</th>\n",
       "      <th>load_type</th>\n",
       "      <th>load_weight</th>\n",
       "      <th>dropoff_site</th>\n",
       "      <th>Z-Score</th>\n",
       "    </tr>\n",
       "  </thead>\n",
       "  <tbody>\n",
       "    <tr>\n",
       "      <th>6903</th>\n",
       "      <td>2021-02-26</td>\n",
       "      <td>ORGANICS</td>\n",
       "      <td>27620.0</td>\n",
       "      <td>ORGANICS BY GOSH</td>\n",
       "      <td>3.116472</td>\n",
       "    </tr>\n",
       "    <tr>\n",
       "      <th>7275</th>\n",
       "      <td>2021-03-01</td>\n",
       "      <td>ORGANICS</td>\n",
       "      <td>27300.0</td>\n",
       "      <td>ORGANICS BY GOSH</td>\n",
       "      <td>3.053360</td>\n",
       "    </tr>\n",
       "    <tr>\n",
       "      <th>9814</th>\n",
       "      <td>2021-03-15</td>\n",
       "      <td>ORGANICS</td>\n",
       "      <td>27240.0</td>\n",
       "      <td>ORGANICS BY GOSH</td>\n",
       "      <td>3.041526</td>\n",
       "    </tr>\n",
       "    <tr>\n",
       "      <th>21339</th>\n",
       "      <td>2021-06-02</td>\n",
       "      <td>ORGANICS</td>\n",
       "      <td>28120.0</td>\n",
       "      <td>ORGANICS BY GOSH</td>\n",
       "      <td>3.215085</td>\n",
       "    </tr>\n",
       "    <tr>\n",
       "      <th>21504</th>\n",
       "      <td>2021-06-03</td>\n",
       "      <td>ORGANICS</td>\n",
       "      <td>29660.0</td>\n",
       "      <td>ORGANICS BY GOSH</td>\n",
       "      <td>3.518813</td>\n",
       "    </tr>\n",
       "    <tr>\n",
       "      <th>21945</th>\n",
       "      <td>2021-06-07</td>\n",
       "      <td>ORGANICS</td>\n",
       "      <td>29000.0</td>\n",
       "      <td>ORGANICS BY GOSH</td>\n",
       "      <td>3.388644</td>\n",
       "    </tr>\n",
       "    <tr>\n",
       "      <th>22937</th>\n",
       "      <td>2021-06-14</td>\n",
       "      <td>ORGANICS</td>\n",
       "      <td>29160.0</td>\n",
       "      <td>ORGANICS BY GOSH</td>\n",
       "      <td>3.420200</td>\n",
       "    </tr>\n",
       "    <tr>\n",
       "      <th>23116</th>\n",
       "      <td>2021-06-15</td>\n",
       "      <td>ORGANICS</td>\n",
       "      <td>27120.0</td>\n",
       "      <td>ORGANICS BY GOSH</td>\n",
       "      <td>3.017859</td>\n",
       "    </tr>\n",
       "  </tbody>\n",
       "</table>\n",
       "</div>"
      ],
      "text/plain": [
       "      report_date load_type  load_weight      dropoff_site   Z-Score\n",
       "6903   2021-02-26  ORGANICS      27620.0  ORGANICS BY GOSH  3.116472\n",
       "7275   2021-03-01  ORGANICS      27300.0  ORGANICS BY GOSH  3.053360\n",
       "9814   2021-03-15  ORGANICS      27240.0  ORGANICS BY GOSH  3.041526\n",
       "21339  2021-06-02  ORGANICS      28120.0  ORGANICS BY GOSH  3.215085\n",
       "21504  2021-06-03  ORGANICS      29660.0  ORGANICS BY GOSH  3.518813\n",
       "21945  2021-06-07  ORGANICS      29000.0  ORGANICS BY GOSH  3.388644\n",
       "22937  2021-06-14  ORGANICS      29160.0  ORGANICS BY GOSH  3.420200\n",
       "23116  2021-06-15  ORGANICS      27120.0  ORGANICS BY GOSH  3.017859"
      ]
     },
     "execution_count": 42,
     "metadata": {},
     "output_type": "execute_result"
    }
   ],
   "source": [
    "organic_gosh[(organic_gosh['Z-Score']>3)| (organic_gosh['Z-Score']<-3)]"
   ]
  },
  {
   "cell_type": "markdown",
   "metadata": {},
   "source": [
    "Perhitungan dengan menggunakan batasan z-score ini menghasilkan data data yang kondisinya di luar batasan z score, batas atas diatas 3, batas bawah -3. Total data berjumlah 8 outlier. "
   ]
  },
  {
   "cell_type": "code",
   "execution_count": 46,
   "metadata": {},
   "outputs": [
    {
     "data": {
      "text/plain": [
       "(5741, 5)"
      ]
     },
     "execution_count": 46,
     "metadata": {},
     "output_type": "execute_result"
    }
   ],
   "source": [
    "organic_gosh.shape"
   ]
  },
  {
   "cell_type": "markdown",
   "metadata": {},
   "source": [
    "Dari perhitungan diatas didapatkan outliers dengan total data 8. Dari data keseluruhan 5741, total outlier hanya sebesar 0.139 %. Dapat diasumsikan bahwa jumlah nilai ekstrim ini masih sangat kecil jika dibandingkan dengan jumlah total data. \n",
    "Untuk itu dalam menangani outlier ini akan dilakukan metode censoring atau menerapkan batasan. "
   ]
  },
  {
   "cell_type": "code",
   "execution_count": 45,
   "metadata": {},
   "outputs": [
    {
     "data": {
      "text/plain": [
       "0.13934854554955584"
      ]
     },
     "execution_count": 45,
     "metadata": {},
     "output_type": "execute_result"
    }
   ],
   "source": [
    "total_outlier = 8 \n",
    "total_data = 5741\n",
    "presentase = (total_outlier/total_data) * 100 \n",
    "presentase"
   ]
  },
  {
   "cell_type": "markdown",
   "metadata": {},
   "source": [
    "Untuk melihat batasan load_weight dari Outliers bisa menggunakan rumus berikut : \n",
    "Outliers=mean+/-3*std."
   ]
  },
  {
   "cell_type": "code",
   "execution_count": 43,
   "metadata": {},
   "outputs": [
    {
     "name": "stdout",
     "output_type": "stream",
     "text": [
      "Z-Score          3.000261\n",
      "load_weight    27030.7739\n",
      "report_date           NaT\n",
      "dtype: object\n",
      "Z-Score          -3.000261\n",
      "load_weight   -3393.809608\n",
      "report_date            NaT\n",
      "dtype: object\n"
     ]
    },
    {
     "name": "stderr",
     "output_type": "stream",
     "text": [
      "C:\\Users\\lenovo\\AppData\\Local\\Temp\\ipykernel_11040\\1446260665.py:1: FutureWarning: DataFrame.mean and DataFrame.median with numeric_only=None will include datetime64 and datetime64tz columns in a future version.\n",
      "  mean = organic_gosh.mean()\n",
      "C:\\Users\\lenovo\\AppData\\Local\\Temp\\ipykernel_11040\\1446260665.py:1: FutureWarning: Dropping of nuisance columns in DataFrame reductions (with 'numeric_only=None') is deprecated; in a future version this will raise TypeError.  Select only valid columns before calling the reduction.\n",
      "  mean = organic_gosh.mean()\n",
      "C:\\Users\\lenovo\\AppData\\Local\\Temp\\ipykernel_11040\\1446260665.py:2: FutureWarning: Dropping of nuisance columns in DataFrame reductions (with 'numeric_only=None') is deprecated; in a future version this will raise TypeError.  Select only valid columns before calling the reduction.\n",
      "  std = organic_gosh.std()\n"
     ]
    }
   ],
   "source": [
    " \n",
    "mean = organic_gosh.mean()\n",
    "std = organic_gosh.std()\n",
    "batas_atas = mean + (3*std)\n",
    "batas_bawah = mean - (3*std)\n",
    "\n",
    "print(batas_atas)\n",
    "print(batas_bawah)"
   ]
  },
  {
   "cell_type": "markdown",
   "metadata": {},
   "source": [
    "Batasan atas untuk load weight adalah sebesar = 27030.7739\n",
    "\n",
    "batasan bawah untuk load weight adalah sebesar -3393.809608"
   ]
  },
  {
   "cell_type": "markdown",
   "metadata": {},
   "source": [
    "Selanjutnya membuat dataset baru yang sudah tidak ada outlier nya \n"
   ]
  },
  {
   "cell_type": "code",
   "execution_count": 47,
   "metadata": {},
   "outputs": [
    {
     "data": {
      "text/html": [
       "<div>\n",
       "<style scoped>\n",
       "    .dataframe tbody tr th:only-of-type {\n",
       "        vertical-align: middle;\n",
       "    }\n",
       "\n",
       "    .dataframe tbody tr th {\n",
       "        vertical-align: top;\n",
       "    }\n",
       "\n",
       "    .dataframe thead th {\n",
       "        text-align: right;\n",
       "    }\n",
       "</style>\n",
       "<table border=\"1\" class=\"dataframe\">\n",
       "  <thead>\n",
       "    <tr style=\"text-align: right;\">\n",
       "      <th></th>\n",
       "      <th>report_date</th>\n",
       "      <th>load_type</th>\n",
       "      <th>load_weight</th>\n",
       "      <th>dropoff_site</th>\n",
       "      <th>Z-Score</th>\n",
       "    </tr>\n",
       "  </thead>\n",
       "  <tbody>\n",
       "    <tr>\n",
       "      <th>75</th>\n",
       "      <td>2021-01-02</td>\n",
       "      <td>ORGANICS</td>\n",
       "      <td>15800.0</td>\n",
       "      <td>ORGANICS BY GOSH</td>\n",
       "      <td>0.785259</td>\n",
       "    </tr>\n",
       "    <tr>\n",
       "      <th>76</th>\n",
       "      <td>2021-01-02</td>\n",
       "      <td>ORGANICS</td>\n",
       "      <td>20760.0</td>\n",
       "      <td>ORGANICS BY GOSH</td>\n",
       "      <td>1.763501</td>\n",
       "    </tr>\n",
       "    <tr>\n",
       "      <th>77</th>\n",
       "      <td>2021-01-02</td>\n",
       "      <td>ORGANICS</td>\n",
       "      <td>14450.0</td>\n",
       "      <td>ORGANICS BY GOSH</td>\n",
       "      <td>0.519004</td>\n",
       "    </tr>\n",
       "    <tr>\n",
       "      <th>78</th>\n",
       "      <td>2021-01-02</td>\n",
       "      <td>ORGANICS</td>\n",
       "      <td>5980.0</td>\n",
       "      <td>ORGANICS BY GOSH</td>\n",
       "      <td>-1.151501</td>\n",
       "    </tr>\n",
       "    <tr>\n",
       "      <th>79</th>\n",
       "      <td>2021-01-02</td>\n",
       "      <td>ORGANICS</td>\n",
       "      <td>19540.0</td>\n",
       "      <td>ORGANICS BY GOSH</td>\n",
       "      <td>1.522885</td>\n",
       "    </tr>\n",
       "    <tr>\n",
       "      <th>...</th>\n",
       "      <td>...</td>\n",
       "      <td>...</td>\n",
       "      <td>...</td>\n",
       "      <td>...</td>\n",
       "      <td>...</td>\n",
       "    </tr>\n",
       "    <tr>\n",
       "      <th>26125</th>\n",
       "      <td>2021-07-08</td>\n",
       "      <td>ORGANICS</td>\n",
       "      <td>13760.0</td>\n",
       "      <td>ORGANICS BY GOSH</td>\n",
       "      <td>0.382918</td>\n",
       "    </tr>\n",
       "    <tr>\n",
       "      <th>26126</th>\n",
       "      <td>2021-07-08</td>\n",
       "      <td>ORGANICS</td>\n",
       "      <td>6180.0</td>\n",
       "      <td>ORGANICS BY GOSH</td>\n",
       "      <td>-1.112056</td>\n",
       "    </tr>\n",
       "    <tr>\n",
       "      <th>26127</th>\n",
       "      <td>2021-07-08</td>\n",
       "      <td>ORGANICS</td>\n",
       "      <td>10140.0</td>\n",
       "      <td>ORGANICS BY GOSH</td>\n",
       "      <td>-0.331041</td>\n",
       "    </tr>\n",
       "    <tr>\n",
       "      <th>26128</th>\n",
       "      <td>2021-07-08</td>\n",
       "      <td>ORGANICS</td>\n",
       "      <td>10640.0</td>\n",
       "      <td>ORGANICS BY GOSH</td>\n",
       "      <td>-0.232427</td>\n",
       "    </tr>\n",
       "    <tr>\n",
       "      <th>26129</th>\n",
       "      <td>2021-07-08</td>\n",
       "      <td>ORGANICS</td>\n",
       "      <td>5000.0</td>\n",
       "      <td>ORGANICS BY GOSH</td>\n",
       "      <td>-1.344783</td>\n",
       "    </tr>\n",
       "  </tbody>\n",
       "</table>\n",
       "<p>5733 rows × 5 columns</p>\n",
       "</div>"
      ],
      "text/plain": [
       "      report_date load_type  load_weight      dropoff_site   Z-Score\n",
       "75     2021-01-02  ORGANICS      15800.0  ORGANICS BY GOSH  0.785259\n",
       "76     2021-01-02  ORGANICS      20760.0  ORGANICS BY GOSH  1.763501\n",
       "77     2021-01-02  ORGANICS      14450.0  ORGANICS BY GOSH  0.519004\n",
       "78     2021-01-02  ORGANICS       5980.0  ORGANICS BY GOSH -1.151501\n",
       "79     2021-01-02  ORGANICS      19540.0  ORGANICS BY GOSH  1.522885\n",
       "...           ...       ...          ...               ...       ...\n",
       "26125  2021-07-08  ORGANICS      13760.0  ORGANICS BY GOSH  0.382918\n",
       "26126  2021-07-08  ORGANICS       6180.0  ORGANICS BY GOSH -1.112056\n",
       "26127  2021-07-08  ORGANICS      10140.0  ORGANICS BY GOSH -0.331041\n",
       "26128  2021-07-08  ORGANICS      10640.0  ORGANICS BY GOSH -0.232427\n",
       "26129  2021-07-08  ORGANICS       5000.0  ORGANICS BY GOSH -1.344783\n",
       "\n",
       "[5733 rows x 5 columns]"
      ]
     },
     "execution_count": 47,
     "metadata": {},
     "output_type": "execute_result"
    }
   ],
   "source": [
    "organic_gosh_new = organic_gosh[(organic_gosh['Z-Score']>-3) & (organic_gosh['Z-Score']<3)]\n",
    "organic_gosh_new"
   ]
  },
  {
   "cell_type": "markdown",
   "metadata": {},
   "source": [
    "Jumlah baris sudah berkurang dari awal 5741 - 8 = 5733 baris. Selanjutnya visualisasi kita lihat lagi outliernya. "
   ]
  },
  {
   "cell_type": "code",
   "execution_count": 49,
   "metadata": {},
   "outputs": [
    {
     "data": {
      "image/png": "[encoded data removed]",
      "text/plain": [
       "<Figure size 720x360 with 1 Axes>"
      ]
     },
     "metadata": {
      "needs_background": "light"
     },
     "output_type": "display_data"
    }
   ],
   "source": [
    "organic_gosh_new['load_weight'].plot(kind='box', title='Load Weight', figsize=(10,5))\n",
    "plt.show()"
   ]
  },
  {
   "cell_type": "markdown",
   "metadata": {},
   "source": [
    "Mencari Central Tendency untuk Data yang baru "
   ]
  },
  {
   "cell_type": "code",
   "execution_count": 50,
   "metadata": {},
   "outputs": [
    {
     "name": "stdout",
     "output_type": "stream",
     "text": [
      "Mean: 11795.689167974882\n",
      "Median: 11900.0\n",
      "Mode: 14580.0\n"
     ]
    }
   ],
   "source": [
    "print ('Mean: ' + str(organic_gosh_new['load_weight'].mean()))\n",
    "print ('Median: ' + str(organic_gosh_new['load_weight'].median()))\n",
    "print ('Mode: ' + str(organic_gosh_new['load_weight'].mode()[0]))"
   ]
  },
  {
   "cell_type": "markdown",
   "metadata": {},
   "source": [
    "Central Tendency sebelum menghilangkan outlier:\n",
    "\n",
    "- Mean: 11818.482145967602\n",
    "- Median: 11920.0\n",
    "- Mode: 14580.0\n",
    "\n",
    "Central Tendency sesudah menghilangkan outlier:\n",
    "- Mean: 11795.689167974882\n",
    "- Median: 11900.0\n",
    "- Mode: 14580.0\n",
    "    "
   ]
  },
  {
   "cell_type": "code",
   "execution_count": 51,
   "metadata": {},
   "outputs": [
    {
     "name": "stdout",
     "output_type": "stream",
     "text": [
      "0.02533146225977766\n"
     ]
    }
   ],
   "source": [
    "skew2 = print(organic_gosh_new['load_weight'].skew())\n",
    "skew2"
   ]
  },
  {
   "cell_type": "markdown",
   "metadata": {},
   "source": [
    "Nilai skew yang Sebelumnya 0.058 sudah berubah menjadi 0.025. Begitu pula dengan boxplot dibawah ini, sudah tidak terdapat outliers lagi."
   ]
  },
  {
   "cell_type": "code",
   "execution_count": 52,
   "metadata": {},
   "outputs": [
    {
     "data": {
      "image/png": "[encoded data removed]",
      "text/plain": [
       "<Figure size 432x288 with 1 Axes>"
      ]
     },
     "metadata": {
      "needs_background": "light"
     },
     "output_type": "display_data"
    }
   ],
   "source": [
    "goshbaru = organic_gosh_new['load_weight']\n",
    "goshbaru.plot.hist(title='Data Distribution Setelah Outlier ', color='lightblue', bins=25)\n",
    "plt.xlabel('Load Weight')\n",
    "plt.ylabel('Count')  \n",
    "plt.axvline(loadweight.mean(), color='red', linestyle='dashed', linewidth=2)\n",
    "plt.axvline(loadweight.median(), color='green', linestyle='dashed', linewidth=2)\n",
    "plt.show()"
   ]
  },
  {
   "cell_type": "code",
   "execution_count": 53,
   "metadata": {},
   "outputs": [
    {
     "data": {
      "text/plain": [
       "<AxesSubplot:ylabel='load_weight'>"
      ]
     },
     "execution_count": 53,
     "metadata": {},
     "output_type": "execute_result"
    },
    {
     "data": {
      "image/png": "[encoded data removed]",
      "text/plain": [
       "<Figure size 432x288 with 1 Axes>"
      ]
     },
     "metadata": {
      "needs_background": "light"
     },
     "output_type": "display_data"
    }
   ],
   "source": [
    "sns.boxplot(data=organic_gosh_new, y='load_weight')"
   ]
  },
  {
   "cell_type": "markdown",
   "metadata": {},
   "source": [
    "Selanjutnya menghitung range, variance, dan standar deviasi  "
   ]
  },
  {
   "cell_type": "code",
   "execution_count": 54,
   "metadata": {},
   "outputs": [],
   "source": [
    "gosh_min = organic_gosh_new['load_weight'].min()\n",
    "gosh_max = organic_gosh_new['load_weight'].max()\n",
    "gosh_range = gosh_max - gosh_min\n",
    "\n",
    "\n",
    "gosh_std = organic_gosh_new['load_weight'].std()\n",
    "gosh_var = organic_gosh_new['load_weight'].var()"
   ]
  },
  {
   "cell_type": "code",
   "execution_count": 55,
   "metadata": {},
   "outputs": [
    {
     "data": {
      "text/plain": [
       "26380.0"
      ]
     },
     "execution_count": 55,
     "metadata": {},
     "output_type": "execute_result"
    }
   ],
   "source": [
    "gosh_range"
   ]
  },
  {
   "cell_type": "code",
   "execution_count": 56,
   "metadata": {},
   "outputs": [
    {
     "data": {
      "text/plain": [
       "5037.304948701621"
      ]
     },
     "execution_count": 56,
     "metadata": {},
     "output_type": "execute_result"
    }
   ],
   "source": [
    "gosh_std"
   ]
  },
  {
   "cell_type": "code",
   "execution_count": 57,
   "metadata": {},
   "outputs": [
    {
     "data": {
      "text/plain": [
       "25374441.146213833"
      ]
     },
     "execution_count": 57,
     "metadata": {},
     "output_type": "execute_result"
    }
   ],
   "source": [
    "gosh_var"
   ]
  },
  {
   "cell_type": "markdown",
   "metadata": {},
   "source": [
    "Berdasarkan peritungan diatas didapatkan data sebagai berikut : \n",
    "\n",
    "- range : 26380.0.0 \n",
    "- standard deviasi : 5037.304948701621\n",
    "- variance : 25374441.146213833\n",
    "\n",
    "Dalam sekelompok data kuantitatif akan terdapat data dengan nilai terbesar dan data dengan nilai terkecil, untuk dataset ini besarnyay range adalah sebesar 26.380 kg, kemudian untuk standard deviasi adalah sebesar 5037.30 kg standar ini dapat menghitung seberapa jauh kecenderungan data akan melebar dari nilai rata-rata yang menjadi titik pusatnya. Untuk variance memungkinkan kita untuk memahami luasnya keragaman dalam sampel atau seluruh populasi yang besarnya adalah 25.374.441 kg"
   ]
  },
  {
   "cell_type": "markdown",
   "metadata": {},
   "source": [
    "Selanjutnya Pemerintah kota berencana menambah site baru. Berikan analisa dan saran terkait berapa kapasitas penampungan di site baru berdasarkan perhitungan `confidence interval`. Data apa yang kamu gunakan, apakah hanya dari satu site saja atau dari keseluruhan site?\n",
    "\n",
    "\n",
    "Menurut pendapat saya, seharusnya dihitung dari keseluruhan data. karena akan lebih sesuai fakta jika kapasitas situs baru diambil dari rata-rata semua situs drop off. Untuk rata-rata nilai drop off site yang digunakan adalah rata-rata yang sudah dibersihkan dari outlier. Maka dari itu saya akan menganalisis kembali untuk dataset df_austin seperti langkah-langkah yang dilakukan pada dataset Organis_gosh sebelumnya."
   ]
  },
  {
   "cell_type": "markdown",
   "metadata": {},
   "source": [
    "Yang paling utama adalah melihat distribusi data apakah normal atau skew. Kita cari terlebih dahulu nilai skew nya."
   ]
  },
  {
   "cell_type": "code",
   "execution_count": 58,
   "metadata": {},
   "outputs": [
    {
     "data": {
      "text/plain": [
       "3.335938213321684"
      ]
     },
     "execution_count": 58,
     "metadata": {},
     "output_type": "execute_result"
    }
   ],
   "source": [
    "df_austin['load_weight'].skew()"
   ]
  },
  {
   "cell_type": "markdown",
   "metadata": {},
   "source": [
    "Nilai skew = 3.335938213321684, artinya data cenderung memiliki right skew dan terdapat outliers.\n",
    "Berikut visualisasinya."
   ]
  },
  {
   "cell_type": "code",
   "execution_count": 59,
   "metadata": {},
   "outputs": [
    {
     "data": {
      "text/plain": [
       "<AxesSubplot:ylabel='load_weight'>"
      ]
     },
     "execution_count": 59,
     "metadata": {},
     "output_type": "execute_result"
    },
    {
     "data": {
      "image/png": "[encoded data removed]",
      "text/plain": [
       "<Figure size 432x288 with 1 Axes>"
      ]
     },
     "metadata": {
      "needs_background": "light"
     },
     "output_type": "display_data"
    }
   ],
   "source": [
    "sns.boxplot(data=df_austin, y='load_weight')"
   ]
  },
  {
   "cell_type": "code",
   "execution_count": 60,
   "metadata": {},
   "outputs": [
    {
     "data": {
      "image/png": "[encoded data removed]",
      "text/plain": [
       "<Figure size 432x288 with 1 Axes>"
      ]
     },
     "metadata": {
      "needs_background": "light"
     },
     "output_type": "display_data"
    }
   ],
   "source": [
    "austin = df_austin['load_weight']\n",
    "austin.plot.hist(title='Data Distribution Austin ', color='lightblue', bins=25)\n",
    "plt.xlabel('Load Weight')\n",
    "plt.ylabel('Count')  \n",
    "plt.axvline(loadweight.mean(), color='red', linestyle='dashed', linewidth=2)\n",
    "plt.axvline(loadweight.median(), color='green', linestyle='dashed', linewidth=2)\n",
    "plt.show()"
   ]
  },
  {
   "cell_type": "code",
   "execution_count": 61,
   "metadata": {},
   "outputs": [
    {
     "data": {
      "text/plain": [
       "<seaborn.axisgrid.FacetGrid at 0x2ce97632f40>"
      ]
     },
     "execution_count": 61,
     "metadata": {},
     "output_type": "execute_result"
    },
    {
     "data": {
      "image/png": "[encoded data removed]",
      "text/plain": [
       "<Figure size 360x360 with 1 Axes>"
      ]
     },
     "metadata": {
      "needs_background": "light"
     },
     "output_type": "display_data"
    }
   ],
   "source": [
    "sns.displot(df_austin.load_weight, kde=True, label='Load Weight in Austin')"
   ]
  },
  {
   "cell_type": "markdown",
   "metadata": {},
   "source": [
    "Terlihat dari visualisasi , dataset mempunyai skew right. selanjutnya menghitung central tendency dan IQR. Kita akan melakukan capping pada outlier dengan menggunakan IQR. "
   ]
  },
  {
   "cell_type": "code",
   "execution_count": 62,
   "metadata": {},
   "outputs": [
    {
     "name": "stdout",
     "output_type": "stream",
     "text": [
      "Mean: 12227.136307276274\n",
      "Median: 11300.0\n",
      "Mode: 5500.0\n",
      "Std: 7135.059564662518\n",
      "Min: 0.0\n",
      "Max: 245540.0\n"
     ]
    }
   ],
   "source": [
    "print ('Mean: ' + str(df_austin['load_weight'].mean()))\n",
    "print ('Median: ' + str(df_austin['load_weight'].median()))\n",
    "print ('Mode: ' + str(df_austin['load_weight'].mode()[0]))\n",
    "print ('Std: ' + str(df_austin['load_weight'].std()))\n",
    "print ('Min: ' + str(df_austin['load_weight'].min()))\n",
    "print ('Max: ' + str(df_austin['load_weight'].max()))"
   ]
  },
  {
   "cell_type": "code",
   "execution_count": 63,
   "metadata": {},
   "outputs": [],
   "source": [
    "Austin_Q1 = df_austin['load_weight'].quantile(q=0.25)\n",
    "Austin_Q3 = df_austin['load_weight'].quantile(q=0.75)\n",
    "Austin_IQR = Austin_Q3 - Austin_Q1"
   ]
  },
  {
   "cell_type": "code",
   "execution_count": 67,
   "metadata": {},
   "outputs": [
    {
     "data": {
      "text/plain": [
       "7060.0"
      ]
     },
     "execution_count": 67,
     "metadata": {},
     "output_type": "execute_result"
    }
   ],
   "source": [
    "Austin_Q1"
   ]
  },
  {
   "cell_type": "code",
   "execution_count": 69,
   "metadata": {},
   "outputs": [
    {
     "data": {
      "text/plain": [
       "16380.0"
      ]
     },
     "execution_count": 69,
     "metadata": {},
     "output_type": "execute_result"
    }
   ],
   "source": [
    "Austin_Q3"
   ]
  },
  {
   "cell_type": "code",
   "execution_count": 65,
   "metadata": {},
   "outputs": [
    {
     "data": {
      "text/plain": [
       "9320.0"
      ]
     },
     "execution_count": 65,
     "metadata": {},
     "output_type": "execute_result"
    }
   ],
   "source": [
    "Austin_IQR"
   ]
  },
  {
   "cell_type": "code",
   "execution_count": 64,
   "metadata": {},
   "outputs": [
    {
     "data": {
      "text/plain": [
       "30360.0"
      ]
     },
     "execution_count": 64,
     "metadata": {},
     "output_type": "execute_result"
    }
   ],
   "source": [
    "Outlier_Austin= Austin_Q3 + (1.5*Austin_IQR)\n",
    "Outlier_Austin"
   ]
  },
  {
   "cell_type": "markdown",
   "metadata": {},
   "source": [
    "Membuat batasan untuk outlier"
   ]
  },
  {
   "cell_type": "code",
   "execution_count": 66,
   "metadata": {},
   "outputs": [],
   "source": [
    "df_austin[\"load_weight\"] = np.where(df_austin['load_weight']>30360.0, 30360.0,df_austin['load_weight'])"
   ]
  },
  {
   "cell_type": "markdown",
   "metadata": {},
   "source": [
    "Setelah diberi batasan, lanjut untuk megecek besarnya skew yang baru."
   ]
  },
  {
   "cell_type": "code",
   "execution_count": 72,
   "metadata": {},
   "outputs": [
    {
     "data": {
      "text/plain": [
       "0.535315437004754"
      ]
     },
     "execution_count": 72,
     "metadata": {},
     "output_type": "execute_result"
    }
   ],
   "source": [
    "df_austin['load_weight'].skew()"
   ]
  },
  {
   "cell_type": "markdown",
   "metadata": {},
   "source": [
    "Setelah membatasi outlier , Hasil skew sudah berubah dari 3.335938213321684 menjadi 0.535315437004754. "
   ]
  },
  {
   "cell_type": "code",
   "execution_count": 73,
   "metadata": {},
   "outputs": [
    {
     "data": {
      "text/plain": [
       "<AxesSubplot:ylabel='load_weight'>"
      ]
     },
     "execution_count": 73,
     "metadata": {},
     "output_type": "execute_result"
    },
    {
     "data": {
      "image/png": "[encoded data removed]",
      "text/plain": [
       "<Figure size 432x288 with 1 Axes>"
      ]
     },
     "metadata": {
      "needs_background": "light"
     },
     "output_type": "display_data"
    }
   ],
   "source": [
    "sns.boxplot(data=df_austin, y='load_weight')"
   ]
  },
  {
   "cell_type": "markdown",
   "metadata": {},
   "source": [
    "Sudah tidak ada outlier. selanjutnya menghitung central tendency."
   ]
  },
  {
   "cell_type": "code",
   "execution_count": 74,
   "metadata": {},
   "outputs": [
    {
     "name": "stdout",
     "output_type": "stream",
     "text": [
      "Mean: 12191.78177304552\n",
      "Median: 11300.0\n",
      "Mode: 30360.0\n"
     ]
    }
   ],
   "source": [
    "print ('Mean: ' + str(df_austin['load_weight'].mean()))\n",
    "print ('Median: ' + str(df_austin['load_weight'].median()))\n",
    "print ('Mode: ' + str(df_austin['load_weight'].mode()[0]))"
   ]
  },
  {
   "cell_type": "markdown",
   "metadata": {},
   "source": [
    "Central tendency sebelum outlier \n",
    "- Mean: 12227.136307276274\n",
    "- Median: 11300.0\n",
    "- Mode: 5500.0\n",
    "\n",
    "Central Tendency setelah outlier \n",
    "- Mean: 12191.78177304552\n",
    "- Median: 11300.0\n",
    "- Mode: 30360.0"
   ]
  },
  {
   "cell_type": "code",
   "execution_count": 90,
   "metadata": {},
   "outputs": [],
   "source": [
    "austin_min = df_austin['load_weight'].min()\n",
    "austin_max = df_austin['load_weight'].max()\n",
    "asutin_range = gosh_max - gosh_min\n",
    "\n",
    "\n",
    "austin_std = df_austin['load_weight'].std()\n",
    "austin_var = df_austin['load_weight'].var()"
   ]
  },
  {
   "cell_type": "code",
   "execution_count": 91,
   "metadata": {},
   "outputs": [
    {
     "data": {
      "text/plain": [
       "26380.0"
      ]
     },
     "execution_count": 91,
     "metadata": {},
     "output_type": "execute_result"
    }
   ],
   "source": [
    "asutin_range"
   ]
  },
  {
   "cell_type": "code",
   "execution_count": 92,
   "metadata": {},
   "outputs": [
    {
     "data": {
      "text/plain": [
       "6733.090119395677"
      ]
     },
     "execution_count": 92,
     "metadata": {},
     "output_type": "execute_result"
    }
   ],
   "source": [
    "austin_std"
   ]
  },
  {
   "cell_type": "code",
   "execution_count": 93,
   "metadata": {},
   "outputs": [
    {
     "data": {
      "text/plain": [
       "45334502.55590369"
      ]
     },
     "execution_count": 93,
     "metadata": {},
     "output_type": "execute_result"
    }
   ],
   "source": [
    "austin_var"
   ]
  },
  {
   "cell_type": "markdown",
   "metadata": {},
   "source": [
    "Berdasarkan perhitungan diatas, didapatkan :\n",
    "- range : 26380.0\n",
    "- std  :6733.090119395677\n",
    "- var  : 45334502.55590369"
   ]
  },
  {
   "cell_type": "markdown",
   "metadata": {},
   "source": [
    "Saat ini data df_austin sudah siap dan tanpa outlier. Maka dari itu kita dapat menghitung confidence interval untuk kapasitas penampungan di site baru. \n",
    "Confidence Interval yang digunakan adalah 95%."
   ]
  },
  {
   "cell_type": "code",
   "execution_count": 79,
   "metadata": {},
   "outputs": [
    {
     "data": {
      "text/plain": [
       "(-1004.8323656324992, 25388.395911723543)"
      ]
     },
     "execution_count": 79,
     "metadata": {},
     "output_type": "execute_result"
    }
   ],
   "source": [
    "CI = stats.norm.interval(0.95, df_austin['load_weight'].mean(), df_austin['load_weight'].std())\n",
    "CI"
   ]
  },
  {
   "cell_type": "markdown",
   "metadata": {},
   "source": [
    "Diketahui hasil dari perhitungan diatas menerangkan bahwa kapasitas penampungan di site baru adalah 25388.39 kg. \n",
    "Untuk menghitung rata-rata kapasitas di site baru dibutuhkan data dari seluruh site , oleh karena itu saya menggunakan data secara menyeluruh. \n",
    "Dengan perhitungan ini diharapkan pada saat membangun site baru tidak terjadi kelebihan kapasitas karena sudah dihitung berdasarkan besar rata-rata seluruh site. \n"
   ]
  },
  {
   "cell_type": "markdown",
   "metadata": {},
   "source": [
    "### Analisa uji hipotesis"
   ]
  },
  {
   "cell_type": "markdown",
   "metadata": {},
   "source": [
    "Hypothesis testing T-Test 1 Sample 2 Tailed\n",
    "\n",
    "H0 = Mean dari organic_gosh_new = 11795\n",
    "H1 = Mean dari organic_gosh_new != 11795\n",
    "\n",
    "\n",
    "Central Tendency dari organic_gosh_new yang sudah dihitung sebelumnya.\n",
    "- Mean: 11795.689167974882\n",
    "- Median: 11900.0\n",
    "- Mode: 14580.0"
   ]
  },
  {
   "cell_type": "code",
   "execution_count": 78,
   "metadata": {},
   "outputs": [
    {
     "name": "stdout",
     "output_type": "stream",
     "text": [
      "P-value: 0.991735222484366\n",
      "t-statistics: 0.01035899958790802\n"
     ]
    }
   ],
   "source": [
    "# ttest 1 sample 2 tailed\n",
    "t_stat,p_val = stats.ttest_1samp(organic_gosh_new['load_weight'], 11795)\n",
    "\n",
    "print('P-value:',p_val)\n",
    "print('t-statistics:',t_stat)"
   ]
  },
  {
   "cell_type": "code",
   "execution_count": 80,
   "metadata": {},
   "outputs": [
    {
     "name": "stderr",
     "output_type": "stream",
     "text": [
      "c:\\Users\\lenovo\\anaconda3\\lib\\site-packages\\seaborn\\distributions.py:2619: FutureWarning: `distplot` is a deprecated function and will be removed in a future version. Please adapt your code to use either `displot` (a figure-level function with similar flexibility) or `histplot` (an axes-level function for histograms).\n",
      "  warnings.warn(msg, FutureWarning)\n"
     ]
    },
    {
     "data": {
      "text/plain": [
       "<matplotlib.legend.Legend at 0x2ce981bd220>"
      ]
     },
     "execution_count": 80,
     "metadata": {},
     "output_type": "execute_result"
    },
    {
     "data": {
      "image/png": "[encoded data removed]",
      "text/plain": [
       "<Figure size 1152x360 with 1 Axes>"
      ]
     },
     "metadata": {
      "needs_background": "light"
     },
     "output_type": "display_data"
    }
   ],
   "source": [
    "pop = np.random.normal(organic_gosh_new['load_weight'].mean(), organic_gosh_new['load_weight'].std(), 10000)\n",
    "\n",
    "# confidence interval with critical value 0.05\n",
    "ci = stats.norm.interval(0.95, organic_gosh_new['load_weight'].mean(), organic_gosh_new['load_weight'].std())\n",
    "\n",
    "plt.figure(figsize=(16,5))\n",
    "# memvisualisasikan simulasi pdf\n",
    "sns.distplot(pop, label='Load Weight Organic Gosh', color='blue')\n",
    "plt.axvline(organic_gosh_new['load_weight'].mean(), color='red', linewidth=2, label='Mean Gosh ')\n",
    "\n",
    "# membuat garis confidence interval\n",
    "plt.axvline(ci[1], color='green', linestyle='dashed', linewidth=2, label='confidence threshold of 95%')\n",
    "plt.axvline(ci[0], color='green', linestyle='dashed', linewidth=2, label='confidence threshold of 95%')\n",
    "\n",
    "# membuat garis p-value/alternative hypotesis\n",
    "plt.axvline(pop.mean() + t_stat*pop.std(), color='black', linestyle='dashed', linewidth=2, label = 'Alternative Hypothesis/p-value')\n",
    "plt.axvline(pop.mean() - t_stat*pop.std(), color='black', linestyle='dashed', linewidth=2)\n",
    "plt.legend()"
   ]
  },
  {
   "cell_type": "markdown",
   "metadata": {},
   "source": [
    "Berdasarkan uji Hypothesis testing T-Test 1 Sample 2 Tailed didapatkan:\n",
    "\n",
    "H0 = Mean dari organic_gosh_new = 11795\n",
    "H1 = Mean dari organic_gosh_new != 11795\n",
    "\n",
    "hasil p-value = 0.991735222484366\n",
    "artinya H0 failed to reject. Mean dari organic_gosh_new = 11795\n",
    "\n",
    "Berdasarkan hasil perhitungan di atas dapat ditunjukkan bahwa H0 failed to reject sehingga dapat disimpulkan bahwa rata-rata `load_weight` pada organic_gosh_new tidak ada perbedaan yang signifikan yaitu  11795 kg (mean dari load_weight: 11795.689167974882 )\n",
    "\n"
   ]
  },
  {
   "cell_type": "markdown",
   "metadata": {},
   "source": [
    "1. Teknik apa yang kamu pilih untuk handling outlier? jelaskan alasannya!\n",
    "Jawab :\n",
    "Teknik handling outlier untuk dataset organic_gosh maupun df_austin menggunakan teknik censoring atau pembatasan data menggunakan batasan atas dan bawah. Alasannya karena kemungkinan data ini penting dan ingin menghindari kehilangan data atau memiliki pengaruh signifikan pada keseluruhan data.\n",
    "\n",
    "\n",
    "2. Apa konsep dibalik confidence interval sehingga kita dapat menggunakannya untuk menyelesaikan langkah pada nomor 7?\n",
    " Confidence Interval merupakan rentang nilai  perkiraan yang mencakup nilai parameter populasi sebenarnya. Tingkat kepercayaan yang digunakan pada data diatas adalah 95%. Confidence Interval mengukur tingkat ketidakpastian atau kepastian dalam metode pengambilan sampel. Kita dapat mengambil sejumlah batas probabilitas, yang paling umum adalah tingkat kepercayaan sebesar 95%. Semakin besar tingkat perkiraan ini semakin sangat hati hati pula saat menggunakan perkiraan nya.\n",
    "\n",
    "\n",
    "3. Jelaskan jenis uji hipotesis apa yang kamu terapkan dan mengapa?\n",
    " Saya menggunakan metode T-test One Sample karena dalam analisis ini saya hanya menggunakan 1 sampel dan uji t satu sampel membandingkan rata-rata data sampel pada organic gosh dengan nilai yang diketahui.\n"
   ]
  },
  {
   "cell_type": "markdown",
   "metadata": {},
   "source": [
    "### Problem 2 (Math/Calculus)\n",
    "\n",
    "Pada permasalahan yang sama, pemerintah ingin tau berapa banyak load sampah dalam kg di kota Austin di hari berikutnya (10 Juli 2021). Dalam hal ini, pemerintah menginginkan kamu melakukan forecasting untuk memprediksi nilai di masa depan. Ada banyak teknik forecasting yang bisa dilakukan tapi kamu tidak perlu khawatir, kita akan menggunakan yang metode yang sangat sederhana yaitu menggunakan rumus kecepatan.\n",
    "\n",
    "Asumsikan bahwa laju penambahan sampah tiap harinya dapat ditulis menggunakan rumus berikut:\n",
    "<img src=\"https://latex2png.com/pngs/d095b902113a1ef68d07fd786e4be428.png\"></img>\n",
    "\n",
    "dimana `1` notasi hari ini dan `0` notasi hari kemarin.\n",
    "\n",
    "Jika kita ingin memprediksi jumlah load sampah hari esok maka bisa digunakan rumus:\n",
    "\n",
    "<img src=\"https://latex2png.com/pngs/50dc63299a1860b10a15346a9ca3a42e.png\"></img>\n",
    "\n",
    "Dimana `v` akan dihitung nilainya menggunakan turunan pertama dari data `load_weight` yang sebelumnya harus di-group-by berdasarkan `report_date` dan jangan lupa setelah itu `report_date` harus diurutkan dari tanggal terkecil hingga terbesar. `Δt` **bernilai 1** karena hanya ingin memprediksi nilai di satu hari kedepan.\n",
    "\n",
    "**Catatan tambahan**: Untuk menghitung turunan, harus ditentukan terlebih dahulu sumbu x dan y nya. Jadikan `load_weight` sebagai sumbu y dan untuk sumbu x, dapat gunakan index dataframe hasil groupby jika indeksnya berupa nomor urut dari 0 hingga N-1. Jika tidak, bisa buat menggunakan `range()`.\n",
    "\n",
    "Gunakan hasil turunan pertama pada baris terakhir dari data untuk digunakan sebagai `v`."
   ]
  },
  {
   "cell_type": "markdown",
   "metadata": {},
   "source": [
    "Menghitung nilai delta weight:"
   ]
  },
  {
   "cell_type": "code",
   "execution_count": 81,
   "metadata": {},
   "outputs": [
    {
     "data": {
      "text/html": [
       "<div>\n",
       "<style scoped>\n",
       "    .dataframe tbody tr th:only-of-type {\n",
       "        vertical-align: middle;\n",
       "    }\n",
       "\n",
       "    .dataframe tbody tr th {\n",
       "        vertical-align: top;\n",
       "    }\n",
       "\n",
       "    .dataframe thead th {\n",
       "        text-align: right;\n",
       "    }\n",
       "</style>\n",
       "<table border=\"1\" class=\"dataframe\">\n",
       "  <thead>\n",
       "    <tr style=\"text-align: right;\">\n",
       "      <th></th>\n",
       "      <th>load_weight</th>\n",
       "    </tr>\n",
       "    <tr>\n",
       "      <th>report_date</th>\n",
       "      <th></th>\n",
       "    </tr>\n",
       "  </thead>\n",
       "  <tbody>\n",
       "    <tr>\n",
       "      <th>2021-01-02</th>\n",
       "      <td>2168870.0</td>\n",
       "    </tr>\n",
       "    <tr>\n",
       "      <th>2021-01-04</th>\n",
       "      <td>2920260.0</td>\n",
       "    </tr>\n",
       "    <tr>\n",
       "      <th>2021-01-05</th>\n",
       "      <td>2386280.0</td>\n",
       "    </tr>\n",
       "    <tr>\n",
       "      <th>2021-01-06</th>\n",
       "      <td>2396370.0</td>\n",
       "    </tr>\n",
       "    <tr>\n",
       "      <th>2021-01-07</th>\n",
       "      <td>2423710.0</td>\n",
       "    </tr>\n",
       "    <tr>\n",
       "      <th>...</th>\n",
       "      <td>...</td>\n",
       "    </tr>\n",
       "    <tr>\n",
       "      <th>2021-07-05</th>\n",
       "      <td>1895550.0</td>\n",
       "    </tr>\n",
       "    <tr>\n",
       "      <th>2021-07-06</th>\n",
       "      <td>1917680.0</td>\n",
       "    </tr>\n",
       "    <tr>\n",
       "      <th>2021-07-07</th>\n",
       "      <td>1553080.0</td>\n",
       "    </tr>\n",
       "    <tr>\n",
       "      <th>2021-07-08</th>\n",
       "      <td>1417610.0</td>\n",
       "    </tr>\n",
       "    <tr>\n",
       "      <th>2021-07-09</th>\n",
       "      <td>120340.0</td>\n",
       "    </tr>\n",
       "  </tbody>\n",
       "</table>\n",
       "<p>165 rows × 1 columns</p>\n",
       "</div>"
      ],
      "text/plain": [
       "             load_weight\n",
       "report_date             \n",
       "2021-01-02     2168870.0\n",
       "2021-01-04     2920260.0\n",
       "2021-01-05     2386280.0\n",
       "2021-01-06     2396370.0\n",
       "2021-01-07     2423710.0\n",
       "...                  ...\n",
       "2021-07-05     1895550.0\n",
       "2021-07-06     1917680.0\n",
       "2021-07-07     1553080.0\n",
       "2021-07-08     1417610.0\n",
       "2021-07-09      120340.0\n",
       "\n",
       "[165 rows x 1 columns]"
      ]
     },
     "execution_count": 81,
     "metadata": {},
     "output_type": "execute_result"
    }
   ],
   "source": [
    "nilai_w = df_austin.groupby(df_austin['report_date']).sum().sort_values('report_date')\n",
    "nilai_w"
   ]
  },
  {
   "cell_type": "markdown",
   "metadata": {},
   "source": [
    "Menghitung nilai hasil turunan pertama "
   ]
  },
  {
   "cell_type": "code",
   "execution_count": 82,
   "metadata": {},
   "outputs": [
    {
     "data": {
      "text/plain": [
       "array([ 7.51390000e+05, -5.33980000e+05,  1.00900000e+04,  2.73400000e+04,\n",
       "       -5.78760000e+05, -1.81681000e+06,  2.46847000e+06, -4.22690000e+05,\n",
       "       -5.34000000e+03, -3.57300000e+04, -3.15860000e+05, -1.68213000e+06,\n",
       "        2.40679000e+06, -2.67890000e+05, -7.86300000e+04, -2.97600000e+04,\n",
       "       -2.86770000e+05, -1.59572000e+06,  2.31477000e+06, -4.40200000e+05,\n",
       "        3.03900000e+04,  3.62200000e+04, -3.88890000e+05, -1.73503000e+06,\n",
       "        2.43934000e+06, -3.61120000e+05, -8.64800000e+04,  1.16700000e+05,\n",
       "       -3.72670000e+05, -1.73345000e+06,  1.17200000e+04,  2.60815000e+06,\n",
       "       -5.67270000e+05,  3.84400000e+04, -1.31158000e+06,  1.08996000e+06,\n",
       "       -1.83900000e+06,  1.04932000e+06,  2.64564000e+06, -4.97740000e+05,\n",
       "        6.84700000e+04,  6.17100000e+04, -9.54480000e+05, -2.16782000e+06,\n",
       "        1.59200000e+04,  2.95084000e+06, -2.95220000e+05, -1.06940000e+05,\n",
       "       -3.82200000e+04, -3.55345000e+05, -2.17369500e+06, -5.08200000e+04,\n",
       "        3.08313000e+06, -3.93530000e+05, -8.38700000e+04, -1.69280000e+05,\n",
       "       -2.62150000e+05, -2.10616000e+06,  3.72080000e+05,  2.20590000e+06,\n",
       "       -1.49780000e+05, -2.20640000e+05,  6.34900000e+04, -4.19990000e+05,\n",
       "       -1.92788000e+06,  1.61740000e+05,  2.63209012e+06, -3.12890009e+05,\n",
       "        5.50598836e+04,  2.68000000e+03, -3.80160000e+05, -1.78233200e+06,\n",
       "       -2.99468000e+05,  2.70050000e+06, -1.42060000e+05, -4.43560000e+05,\n",
       "        1.67560000e+05, -6.81950000e+05, -1.84285000e+06,  2.07841000e+06,\n",
       "        3.40230000e+05, -2.77200000e+05,  4.97480000e+04, -2.45128000e+05,\n",
       "       -1.84880000e+06,  2.56385000e+06,  2.47500000e+04, -1.58680000e+05,\n",
       "       -1.33630000e+05, -3.93670000e+05, -1.73158000e+06, -2.76060000e+05,\n",
       "        2.70263000e+06, -3.44430000e+05, -1.30000000e+04, -1.42960000e+05,\n",
       "       -3.44820000e+05, -1.55664000e+06,  2.20989800e+06, -2.19218000e+05,\n",
       "        1.00980000e+05, -2.67760000e+05, -2.88660000e+05, -1.68574000e+06,\n",
       "        2.43993000e+06, -3.20690000e+05,  1.15650000e+05, -1.49490000e+05,\n",
       "       -2.00450000e+05, -1.76581000e+06,  2.31266000e+06, -2.78750000e+05,\n",
       "       -1.22100000e+04,  2.05300000e+04, -4.26850000e+05, -1.77570000e+06,\n",
       "        2.55128000e+06, -4.19400000e+05, -3.22000000e+03, -1.94870000e+05,\n",
       "       -2.85320000e+05, -1.75635000e+06,  2.32110900e+06, -1.34719000e+05,\n",
       "        2.24700000e+04, -1.19730000e+05, -3.53300000e+05, -1.72889000e+06,\n",
       "       -8.54000000e+03,  2.59933000e+06, -2.38990000e+05,  7.99300000e+04,\n",
       "       -2.20100000e+04, -4.21540000e+05, -1.74630000e+06,  2.52356000e+06,\n",
       "       -3.36750000e+05, -9.87997020e+04, -3.68029800e+03, -4.79240000e+05,\n",
       "       -1.65831000e+06,  2.43525000e+06, -4.88990000e+05,  3.18600000e+04,\n",
       "       -2.99700000e+04, -4.03210000e+05, -1.69620000e+06,  2.33769000e+06,\n",
       "       -2.69980000e+05,  2.22500000e+04, -9.47500000e+04, -5.45780000e+05,\n",
       "       -1.49161000e+06,  2.49019000e+06, -4.96800000e+05, -3.38700000e+04,\n",
       "        5.90000000e+02, -3.39190000e+05, -1.41848000e+06,  1.68731000e+06,\n",
       "        2.21300000e+04, -3.64600000e+05, -1.35470000e+05, -1.29727000e+06])"
      ]
     },
     "execution_count": 82,
     "metadata": {},
     "output_type": "execute_result"
    }
   ],
   "source": [
    "v = np.diff(nilai_w['load_weight'])/np.diff(range(len(nilai_w)))\n",
    "v"
   ]
  },
  {
   "cell_type": "markdown",
   "metadata": {},
   "source": [
    "Menghitung prediksi nilai di satu hari kedepan"
   ]
  },
  {
   "cell_type": "code",
   "execution_count": 83,
   "metadata": {},
   "outputs": [
    {
     "data": {
      "text/plain": [
       "1176930.0"
      ]
     },
     "execution_count": 83,
     "metadata": {},
     "output_type": "execute_result"
    }
   ],
   "source": [
    "nilai_w_besok = nilai_w['load_weight'][-1] + v[-1] * 1\n",
    "abs(nilai_w_besok)"
   ]
  },
  {
   "cell_type": "markdown",
   "metadata": {},
   "source": [
    "1. Untuk menghitung turunan pertama dapat digunakan metode simbolik dan numerik, untuk kasus ini, teknik apa yang Anda gunakan?\n",
    "   Metode yang digunakan untuk menghitung turunan pertama menggunakan metode numerik.\n",
    "\n",
    "2. Apakah Anda memerlukan fungsi matematika untuk menghitung turunan? (ya/tidak) berikan alasanmu!\n",
    "    Ya. Saya menggunakan fungsi matematika, karena turunan adalah laju perubahan sesaat suatu fungsi terhadap salah satu variabelnya. Sehingga menggunakan fungsi matematika dalam penerapannya yaitu diff.\n",
    "\n",
    "3. Berapa berat beban yang Anda harapkan besok (10 Juli 2021)?\n",
    "    -Saya memperkirakan akan ada beban 1176930.0 kg sampah"
   ]
  },
  {
   "cell_type": "markdown",
   "metadata": {},
   "source": [
    "## Conclusions, Assumptions, Overall Analysis"
   ]
  },
  {
   "cell_type": "markdown",
   "metadata": {},
   "source": [
    "Untuk dataset pertama yang saya ambil adalah organic_gosh, dataset ini masuk kedalam jenis distribusi normal karena mempunyai nilai skew dibawah 0,5 yaitu 0.058. Masih terdapat outlier di dalam dataset sehingga saya menggunakan capping untuk penanganan outliernya.  \n",
    "Dan setelah dicapping nilai ekstrimnya, berat beban yang dibuang di organics_gosh \n",
    "- range : 26380 kg\n",
    "- standard deviasi : 5037.30 kg\n",
    "- variance : 25374441.14 kg\n",
    "\n",
    "Kemudian untuk dataset kedua yaitu dataset keseluruhan dropoff site ,dataset ini masuk kedalam jenis distribusi skew right, setelah dibersihkan dari data outlier didapatkan data sbb:\n",
    "- range : 26380 kg\n",
    "- standard dveiasi  :6733.09 kg\n",
    "- variance : 45334502.55 kg\n",
    "\n",
    "-Jika pemerintah ingin menambah dropoff site baru, saya sarankan site baru tersebut memiliki kapasitas yang lebih besar dari rata-rata yaitu sebesar 25388.39 kg. Hal ini dilakukan dengan menghitung interval kepercayaan dari berat beban rata-rata semua situs dropoff yang telah dibersihkan dari outlier.\n",
    "\n",
    "-Saya memperkirakan akan ada beban 1176930.0 kg sampah pada 10 Juli 2021."
   ]
  }
 ],
 "metadata": {
  "kernelspec": {
   "display_name": "Python 3.9.12 ('base')",
   "language": "python",
   "name": "python3"
  },
  "language_info": {
   "codemirror_mode": {
    "name": "ipython",
    "version": 3
   },
   "file_extension": ".py",
   "mimetype": "text/x-python",
   "name": "python",
   "nbconvert_exporter": "python",
   "pygments_lexer": "ipython3",
   "version": "3.9.12"
  },
  "orig_nbformat": 4,
  "vscode": {
   "interpreter": {
    "hash": "a71a9e4fb054fff428071484f7faa898cb9ecb31a518fe88e3463da9af879578"
   }
  }
 },
 "nbformat": 4,
 "nbformat_minor": 2
}
